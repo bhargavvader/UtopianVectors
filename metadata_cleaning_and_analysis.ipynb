{
 "cells": [
  {
   "cell_type": "markdown",
   "id": "e1a1c2df",
   "metadata": {},
   "source": [
    "# Slice full text data based on metadata "
   ]
  },
  {
   "cell_type": "markdown",
   "id": "81946c46",
   "metadata": {},
   "source": [
    "In this notebook I load and clean the metadata, write functions for selecting a subset of the full texts based on metadata (year written or keyword), and plot the distributions of this metadata in our corpus.\n",
    "\n",
    "NOTE: FUNCTIONS TO GET OUR FULL TEXT CORPUS AS A DICTIONARY OR SIMPLE FILE; SELECT A SUBSET OF TEXTS BASED ON METADATA; LOAD CLEAN METADATA TABLES; AND THE LIST OF WORDS WE ARE CURRENTLY LOOKING FOR IN THE TEXT ARE IN UV.PY -- **PLEASE IMPORT AND USE FUNCTIONS/WORD LIST FROM UV.PY TO KEEP THINGS UNIFORM ACROSS ANALYSES AND NOTEBOOKS.**"
   ]
  },
  {
   "cell_type": "code",
   "execution_count": 1,
   "id": "9b7ae974",
   "metadata": {},
   "outputs": [
    {
     "name": "stderr",
     "output_type": "stream",
     "text": [
      "/Users/cdeljunco/.pyenv/versions/3.9.7/envs/nlp/lib/python3.9/site-packages/pandas/compat/__init__.py:124: UserWarning: Could not import the lzma module. Your installed Python is incomplete. Attempting to use lzma compression will result in a RuntimeError.\n",
      "  warnings.warn(msg)\n"
     ]
    }
   ],
   "source": [
    "import json\n",
    "import pandas as pd\n",
    "import matplotlib.pyplot as plt\n",
    "import numpy as np\n",
    "import pickle as pkl\n",
    "%matplotlib inline\n",
    "import uv"
   ]
  },
  {
   "cell_type": "code",
   "execution_count": 7,
   "id": "a9f7745a",
   "metadata": {},
   "outputs": [
    {
     "ename": "SyntaxError",
     "evalue": "invalid syntax (581980377.py, line 1)",
     "output_type": "error",
     "traceback": [
      "\u001b[0;36m  File \u001b[0;32m\"/var/folders/zm/4xwl5pd57dnfqm16krd4ny1syhlqkc/T/ipykernel_58528/581980377.py\"\u001b[0;36m, line \u001b[0;32m1\u001b[0m\n\u001b[0;31m    python -m spacy download en_core_web_sm\u001b[0m\n\u001b[0m              ^\u001b[0m\n\u001b[0;31mSyntaxError\u001b[0m\u001b[0;31m:\u001b[0m invalid syntax\n"
     ]
    }
   ],
   "source": [
    "python -m spacy download en_core_web_sm"
   ]
  },
  {
   "cell_type": "markdown",
   "id": "e454ee34",
   "metadata": {},
   "source": [
    "### Load full texts"
   ]
  },
  {
   "cell_type": "markdown",
   "id": "1f8bd74e",
   "metadata": {},
   "source": [
    "Load full texts and put them in dictionaries where the key is the text ID and the value is the corresponding cleaned list of tokens. Since I'm assuming we didn't do OCR, I'm leaving out texts that were scanned."
   ]
  },
  {
   "cell_type": "code",
   "execution_count": 5,
   "id": "9fd1cb21",
   "metadata": {},
   "outputs": [
    {
     "name": "stdout",
     "output_type": "stream",
     "text": [
      "67\n",
      "721\n"
     ]
    }
   ],
   "source": [
    "with open('../Cleaned-Data/cleaned_texts_pdf.json') as json_file:\n",
    "    cleaned_texts_pdf = json.load(json_file)\n",
    "with open('../Cleaned-Data/cleaned_texts_epub_txt.json') as json_file:\n",
    "    cleaned_texts_epub_txt = json.load(json_file)\n",
    "\n",
    "cln_txts_eu_dict = {}\n",
    "\n",
    "#the keys in our input json files are file names with extensions. \n",
    "#remove extensions so that the dictionary keys match the IDs in the metadata table.\n",
    "for key, val in cleaned_texts_pdf.items():\n",
    "    new_key = key.split('.')[0]\n",
    "    if \"scanned\" not in new_key:\n",
    "        cln_txts_eu_dict[new_key] = val\n",
    "for key, val in cleaned_texts_epub_txt.items():\n",
    "    new_key = key.split('.')[0]\n",
    "    if \"scanned\" not in new_key:\n",
    "        cln_txts_eu_dict[new_key] = val\n",
    "\n",
    "with open('../Cleaned-Data/cleaned_texts_dystopia.json') as json_file:\n",
    "    cleaned_texts_dystopia = json.load(json_file)\n",
    "    \n",
    "cln_txts_dys_dict = {}\n",
    "    \n",
    "for key, val in cleaned_texts_dystopia.items():\n",
    "    new_key = key.split('.')[0]\n",
    "    if \"scanned\" not in new_key:\n",
    "        cln_txts_dys_dict[key.split('.')[0]] = val\n",
    "\n",
    "print(len(cln_txts_dys_dict))\n",
    "print(len(cln_txts_eu_dict))\n",
    "    \n",
    "# #uncomment if it's convenient to have a list of the texts\n",
    "# cln_txts_eu_list = [text for text in cln_txts_eu_dict.values()]\n",
    "# cln_txts_dys_list = [text for text in cln_txts_dys_dict.values()]"
   ]
  },
  {
   "cell_type": "markdown",
   "id": "40a68112",
   "metadata": {},
   "source": [
    "Load lemmatized full texts"
   ]
  },
  {
   "cell_type": "code",
   "execution_count": 6,
   "id": "35417a64",
   "metadata": {},
   "outputs": [
    {
     "name": "stdout",
     "output_type": "stream",
     "text": [
      "725\n",
      "721\n"
     ]
    }
   ],
   "source": [
    "with open('../Cleaned-Data/lemmatized_books.json') as json_file:\n",
    "    cleaned_texts = json.load(json_file)\n",
    "    \n",
    "print(len(cleaned_texts))\n",
    "\n",
    "cln_txts_dict = {}\n",
    "\n",
    "#the keys in our input json files are file names with extensions. \n",
    "#remove extensions so that the dictionary keys match the IDs in the metadata table.\n",
    "for key, val in cleaned_texts_pdf.items():\n",
    "    new_key = key.split('.')[0]\n",
    "    if \"scanned\" not in new_key:\n",
    "        cln_txts_eu_dict[new_key] = val\n",
    "for key, val in cleaned_texts_epub_txt.items():\n",
    "    new_key = key.split('.')[0]\n",
    "    if \"scanned\" not in new_key:\n",
    "        cln_txts_eu_dict[new_key] = val\n",
    "        \n",
    "print(len(cln_txts_eu_dict))\n",
    "\n",
    "# with open('../Cleaned-Data/cleaned_texts_dystopia.json') as json_file:\n",
    "#     cleaned_texts_dystopia = json.load(json_file)\n",
    "    \n",
    "# cln_txts_dys_dict = {}\n",
    "    \n",
    "# for key, val in cleaned_texts_dystopia.items():\n",
    "#     new_key = key.split('.')[0]\n",
    "#     if \"scanned\" not in new_key:\n",
    "#         cln_txts_dys_dict[key.split('.')[0]] = val"
   ]
  },
  {
   "cell_type": "markdown",
   "id": "f90353ff",
   "metadata": {},
   "source": [
    "### Load metadata"
   ]
  },
  {
   "cell_type": "code",
   "execution_count": 3,
   "id": "31507d54",
   "metadata": {},
   "outputs": [],
   "source": [
    "book_info_eutopia = pd.read_csv(\"../Biblists/eutopia_september9.csv\")\n",
    "book_info_eutopia = pd.concat([book_info_eutopia, pd.read_csv(\"../Biblists/bib_list_cdj_july6.csv\")], ignore_index=True, verify_integrity = True)\n",
    "\n",
    "book_info_dystopia = pd.read_csv(\"../Biblists/dystopia_september18.csv\")\n",
    "\n",
    "del book_info_eutopia['Unnamed: 0']\n",
    "del book_info_dystopia['Unnamed: 0']"
   ]
  },
  {
   "cell_type": "markdown",
   "id": "8aee7cc0",
   "metadata": {},
   "source": [
    "### Clean metadata"
   ]
  },
  {
   "cell_type": "markdown",
   "id": "1a84e33c",
   "metadata": {},
   "source": [
    "Clean it up. Note that the **book ID is a string** not an int and some of them contain 'scanned' (if Jode could only find a scanned copy). Since I'm assuming that we haven't used OCR I'm removing those here.\n",
    "\n",
    "I'm also removing duplicates based on only a subset of columns. For instance, the metadata table has several entries for ID '4505' which are the same except for the field 'Jode notes'. I'm ignoring that column when looking for duplicates, which means some of Jode's notes may be lost. (But only from the dataframe, of course they are still in the files.)"
   ]
  },
  {
   "cell_type": "code",
   "execution_count": 4,
   "id": "c6b3bc6b",
   "metadata": {},
   "outputs": [
    {
     "data": {
      "text/plain": [
       "Index(['author', 'title', 'url', 'ID', 'added', 'jode_notes', 'keywords',\n",
       "       'abstract', 'address', 'publisher', 'month', 'year', 'howpublished',\n",
       "       'ENTRYTYPE', 'editor', 'pages', 'isbn', 'note', 'volume', 'issn'],\n",
       "      dtype='object')"
      ]
     },
     "execution_count": 4,
     "metadata": {},
     "output_type": "execute_result"
    }
   ],
   "source": [
    "book_info_eutopia.columns"
   ]
  },
  {
   "cell_type": "code",
   "execution_count": 5,
   "id": "faf12d27",
   "metadata": {},
   "outputs": [],
   "source": [
    "book_info_eutopia = book_info_eutopia[~book_info_eutopia['ID'].isna()]\n",
    "book_info_eutopia['ID'] = book_info_eutopia.ID.astype('str')\n",
    "book_info_eutopia.drop_duplicates(inplace = True, subset = ['ID', 'year', 'author', 'title', 'keywords', 'note'])"
   ]
  },
  {
   "cell_type": "code",
   "execution_count": 6,
   "id": "a4215e6f",
   "metadata": {},
   "outputs": [
    {
     "data": {
      "text/plain": [
       "11187    1\n",
       "12       1\n",
       "8054     1\n",
       "6678     1\n",
       "31       1\n",
       "        ..\n",
       "1865     1\n",
       "1862     1\n",
       "1896     1\n",
       "1902     1\n",
       "9603     1\n",
       "Name: ID, Length: 2254, dtype: int64"
      ]
     },
     "execution_count": 6,
     "metadata": {},
     "output_type": "execute_result"
    }
   ],
   "source": [
    "book_info_eutopia.ID.value_counts()"
   ]
  },
  {
   "cell_type": "code",
   "execution_count": 7,
   "id": "7016e985",
   "metadata": {},
   "outputs": [],
   "source": [
    "book_info_dystopia = book_info_dystopia[~book_info_dystopia['ID'].isna()]\n",
    "book_info_dystopia['ID'] = book_info_dystopia.ID.astype('str')\n",
    "book_info_dystopia.drop_duplicates(inplace = True, subset = ['ID', 'year', 'author', 'title', 'keywords', 'note'])"
   ]
  },
  {
   "cell_type": "code",
   "execution_count": 8,
   "id": "96266d00",
   "metadata": {},
   "outputs": [
    {
     "data": {
      "text/plain": [
       "11165    1\n",
       "3277     1\n",
       "3284     1\n",
       "3334     1\n",
       "3305     1\n",
       "        ..\n",
       "9332     1\n",
       "6073     1\n",
       "6148     1\n",
       "6081     1\n",
       "7081     1\n",
       "Name: ID, Length: 4180, dtype: int64"
      ]
     },
     "execution_count": 8,
     "metadata": {},
     "output_type": "execute_result"
    }
   ],
   "source": [
    "book_info_dystopia.ID.value_counts()"
   ]
  },
  {
   "cell_type": "code",
   "execution_count": 12,
   "id": "677f2e0a",
   "metadata": {},
   "outputs": [],
   "source": [
    "with open('dystopia_metadata_clean.txt', 'wb') as f:\n",
    "    pkl.dump(book_info_dystopia, f)\n",
    "with open('eutopia_metadata_clean.txt', 'wb') as f:\n",
    "    pkl.dump(book_info_eutopia, f) \n"
   ]
  },
  {
   "cell_type": "markdown",
   "id": "06148a15",
   "metadata": {},
   "source": [
    "### Functions to filter full texts by metadata"
   ]
  },
  {
   "cell_type": "code",
   "execution_count": 124,
   "id": "53a19156",
   "metadata": {},
   "outputs": [],
   "source": [
    "def get_texts_year_range(year_range_lo, year_range_hi, book_info = book_info_eutopia, \n",
    "                         text_dict = cln_txts_eu_dict):\n",
    "    \n",
    "    ids = book_info[(book_info.year > year_range_lo) & (book_info.year <= year_range_hi)].ID.values\n",
    "    texts = [text_dict[key] for key in ids if key in text_dict]\n",
    "    \n",
    "    print('texts in date range: ' + str(len(texts)))\n",
    "    return texts\n",
    "    \n",
    "def get_texts_w_keyword(kw, book_info = book_info_eutopia, text_dict = cln_txts_eu_dict):\n",
    "    \n",
    "    possible_keywords = ['Aotearoa/New Zealand author', 'Female author', 'English author', 'Irish author', \n",
    "     'Male author', 'African author', 'Transgender author', 'US author', 'UK author', \n",
    "     'Canadian author', 'Latinx author', 'African American author', 'Cuban-American author',\n",
    "     'Scottish author', 'Indian author', 'French author', 'Australian author', \n",
    "     'Czech author', 'Northern Ireland author', 'Israeli author', 'Nigerian author', \n",
    "     'South African author', 'Iranian author', 'Botswanan author', 'Armenian author', \n",
    "     'Italian author', 'German author', 'Welsh author', 'Slovenian author']\n",
    "        \n",
    "    if kw not in possible_keywords:\n",
    "        print('no texts labeled with that keyword. possible keywords are:')\n",
    "        print(possible_keywords)\n",
    "\n",
    "    bi_no_na = book_info[~book_info.keywords.isna()]\n",
    "    ids = bi_no_na[bi_no_na.keywords.str.contains(kw)].ID.values\n",
    "    texts = [text_dict[key] for key in ids if key in text_dict]\n",
    "\n",
    "    print('texts with keyword ' + kw + ': ' + str(len(texts)))\n",
    "    return texts\n",
    "\n",
    "    pd.Series.dropna\n",
    "    book_info.keywords.dropna()"
   ]
  },
  {
   "cell_type": "code",
   "execution_count": 125,
   "id": "1f966129",
   "metadata": {},
   "outputs": [
    {
     "name": "stdout",
     "output_type": "stream",
     "text": [
      "texts with keyword Female author: 154\n"
     ]
    }
   ],
   "source": [
    "f_auth_texts = get_texts_w_keyword('Female author')"
   ]
  },
  {
   "cell_type": "code",
   "execution_count": 126,
   "id": "5cbd5b7e",
   "metadata": {},
   "outputs": [
    {
     "name": "stdout",
     "output_type": "stream",
     "text": [
      "texts with keyword Male author: 533\n"
     ]
    }
   ],
   "source": [
    "m_auth_texts = get_texts_w_keyword('Male author')"
   ]
  },
  {
   "cell_type": "code",
   "execution_count": 127,
   "id": "cfefa87b",
   "metadata": {},
   "outputs": [
    {
     "data": {
      "text/plain": [
       "687"
      ]
     },
     "execution_count": 127,
     "metadata": {},
     "output_type": "execute_result"
    }
   ],
   "source": [
    "154 + 533"
   ]
  },
  {
   "cell_type": "markdown",
   "id": "b98619c5",
   "metadata": {},
   "source": [
    "### Descriptive statistics of Lyman Tower Sargent bibliography and our corpus"
   ]
  },
  {
   "cell_type": "code",
   "execution_count": null,
   "id": "881f3144",
   "metadata": {},
   "outputs": [],
   "source": []
  },
  {
   "cell_type": "code",
   "execution_count": 136,
   "id": "9b5e39fe",
   "metadata": {},
   "outputs": [],
   "source": [
    "our_book_info_eutopia = book_info_eutopia[book_info_eutopia.ID.isin([key for key in cln_txts_eu_dict.keys()])]\n",
    "our_book_info_topia = book_info_dystopia[book_info_dystopia.ID.isin([key for key in cln_txts_dys_dict.keys()])]"
   ]
  },
  {
   "cell_type": "code",
   "execution_count": 137,
   "id": "2b6bb11e",
   "metadata": {},
   "outputs": [
    {
     "data": {
      "text/plain": [
       "721"
      ]
     },
     "execution_count": 137,
     "metadata": {},
     "output_type": "execute_result"
    }
   ],
   "source": [
    "len(eu_corpus)"
   ]
  },
  {
   "cell_type": "markdown",
   "id": "422d9dde",
   "metadata": {},
   "source": [
    "Time"
   ]
  },
  {
   "cell_type": "code",
   "execution_count": 138,
   "id": "f3a6652b",
   "metadata": {},
   "outputs": [
    {
     "data": {
      "text/plain": [
       "<matplotlib.legend.Legend at 0x2c7130f10>"
      ]
     },
     "execution_count": 138,
     "metadata": {},
     "output_type": "execute_result"
    },
    {
     "data": {
      "image/png": "[encoded data removed]",
      "text/plain": [
       "<Figure size 432x288 with 1 Axes>"
      ]
     },
     "metadata": {
      "needs_background": "light"
     },
     "output_type": "display_data"
    }
   ],
   "source": [
    "plt.hist(book_info_eutopia.year.values, bins = np.arange(1500, 2021, 10), label = 'LTS')\n",
    "plt.hist(our_book_info_eutopia.year.values, bins = np.arange(1500, 2021, 10), label = 'our corpus')\n",
    "plt.xlabel('year')\n",
    "plt.ylabel('number of texts')\n",
    "plt.legend()"
   ]
  },
  {
   "cell_type": "code",
   "execution_count": 164,
   "id": "90f9bc00",
   "metadata": {},
   "outputs": [],
   "source": [
    "#categorize keywords.\n",
    "#I constructed these so that each group would only contain mutually exclusive kws.\n",
    "#(not as in I believe them to be exclusive, but as in I don't expect the same work to be tagged with more than one)\n",
    "#I need to double-check this is true in the data.\n",
    "\n",
    "gender_kws = ['Female author', 'Male author']\n",
    "trans_kws = ['Transgender author']\n",
    "nation_kws = ['Aotearoa/New Zealand author', 'English author', 'Irish author',  \n",
    "              'US author', 'UK author', 'Canadian author', 'Latinx author', 'Scottish author', \n",
    "              'Indian author', 'French author', 'Australian author', 'Czech author', 'Northern Ireland author', \n",
    "              'Israeli author', 'Nigerian author', 'South African author', 'Iranian author', 'Botswanan author', \n",
    "              'Armenian author', 'Italian author', 'German author', 'Welsh author', 'Slovenian author']\n",
    "\n",
    "continent_kws = ['African author']\n",
    "\n",
    "us_minority_kws = ['Cuban-American author', 'African American author']"
   ]
  },
  {
   "cell_type": "code",
   "execution_count": 170,
   "id": "f5e8782c",
   "metadata": {},
   "outputs": [],
   "source": [
    "def get_n_with_kw(book_info_in, kw):\n",
    "    \n",
    "    book_info = book_info_in[~book_info_in.keywords.isna()]\n",
    "\n",
    "    return len(book_info[book_info.keywords.str.contains(kw)])\n",
    "\n",
    "def get_kw_distribution(kw_list, book_info):\n",
    "\n",
    "    kw_numbers = {}\n",
    "    for kw in kw_list:\n",
    "        kw_numbers[kw] = get_n_with_kw(book_info, kw)\n",
    "    kw_numbers['None'] = len(book_info) - sum(val for val in kw_numbers.values())\n",
    "    \n",
    "    print(kw_numbers)\n",
    "    return kw_numbers\n",
    "\n",
    "def plot_pie(ax, kw_list, book_info):\n",
    "    \n",
    "    data = get_kw_distribution(kw_list, book_info)\n",
    "    \n",
    "    ax.pie([v for v in data.values()], labels = [k for k in data.keys()])\n",
    "    "
   ]
  },
  {
   "cell_type": "code",
   "execution_count": 160,
   "id": "aff0184d",
   "metadata": {},
   "outputs": [
    {
     "name": "stdout",
     "output_type": "stream",
     "text": [
      "{'Female author': 480, 'Male author': 1574, 'None': 200}\n"
     ]
    },
    {
     "data": {
      "text/plain": [
       "Text(0.5, 1.0, 'LST eutopia')"
      ]
     },
     "execution_count": 160,
     "metadata": {},
     "output_type": "execute_result"
    },
    {
     "data": {
      "image/png": "[encoded data removed]",
      "text/plain": [
       "<Figure size 432x288 with 1 Axes>"
      ]
     },
     "metadata": {},
     "output_type": "display_data"
    }
   ],
   "source": [
    "plot_pie(gender_kws, book_info_eutopia)\n",
    "plt.title('LST eutopia')"
   ]
  },
  {
   "cell_type": "code",
   "execution_count": 161,
   "id": "19a43394",
   "metadata": {
    "scrolled": true
   },
   "outputs": [
    {
     "name": "stdout",
     "output_type": "stream",
     "text": [
      "{'Female author': 154, 'Male author': 533, 'None': 34}\n"
     ]
    },
    {
     "data": {
      "text/plain": [
       "Text(0.5, 1.0, 'our eutopia')"
      ]
     },
     "execution_count": 161,
     "metadata": {},
     "output_type": "execute_result"
    },
    {
     "data": {
      "image/png": "[encoded data removed]",
      "text/plain": [
       "<Figure size 432x288 with 1 Axes>"
      ]
     },
     "metadata": {},
     "output_type": "display_data"
    }
   ],
   "source": [
    "plot_pie(gender_kws, our_book_info_eutopia)\n",
    "plt.title('our eutopia')"
   ]
  },
  {
   "cell_type": "code",
   "execution_count": 176,
   "id": "e904584b",
   "metadata": {},
   "outputs": [],
   "source": [
    "# fig, ax = plt.subplots(5, 2)\n",
    "\n",
    "# for i, kw_list in enumerate([gender_kws, trans_kws, continent_kws, us_minority_kws]): #nation_kws, \n",
    "#     for j, bi in enumerate([book_info_eutopia, our_book_info_eutopia]):\n",
    "#         plot_pie(ax[i, j], kw_list, bi)"
   ]
  }
 ],
 "metadata": {
  "kernelspec": {
   "display_name": "Python 3 (ipykernel)",
   "language": "python",
   "name": "python3"
  },
  "language_info": {
   "codemirror_mode": {
    "name": "ipython",
    "version": 3
   },
   "file_extension": ".py",
   "mimetype": "text/x-python",
   "name": "python",
   "nbconvert_exporter": "python",
   "pygments_lexer": "ipython3",
   "version": "3.9.7"
  }
 },
 "nbformat": 4,
 "nbformat_minor": 5
}
