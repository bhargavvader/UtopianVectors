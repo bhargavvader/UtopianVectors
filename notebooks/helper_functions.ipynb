{
 "cells": [
  {
   "cell_type": "markdown",
   "id": "designing-aberdeen",
   "metadata": {},
   "source": [
    "## Helper functions "
   ]
  },
  {
   "cell_type": "code",
   "execution_count": null,
   "id": "static-consequence",
   "metadata": {},
   "outputs": [],
   "source": [
    "def epub_to_text(file_path):\n",
    "    # save file \n",
    "    return text"
   ]
  },
  {
   "cell_type": "code",
   "execution_count": null,
   "id": "electrical-darkness",
   "metadata": {},
   "outputs": [],
   "source": [
    "def pdf_to_text(file_path):\n",
    "    # save file\n",
    "    return text"
   ]
  },
  {
   "cell_type": "code",
   "execution_count": null,
   "id": "german-lafayette",
   "metadata": {},
   "outputs": [],
   "source": [
    "def mobi_to_text(file_path):\n",
    "    # save file\n",
    "    return text "
   ]
  },
  {
   "cell_type": "code",
   "execution_count": null,
   "id": "conservative-brake",
   "metadata": {},
   "outputs": [],
   "source": [
    "def clean_raw_text(texts):\n",
    "    return clean_text"
   ]
  },
  {
   "cell_type": "code",
   "execution_count": null,
   "id": "mexican-madrid",
   "metadata": {},
   "outputs": [],
   "source": [
    "def text_summaries(texts):\n",
    "    return summaries"
   ]
  },
  {
   "cell_type": "code",
   "execution_count": null,
   "id": "domestic-index",
   "metadata": {},
   "outputs": [],
   "source": [
    "def create_model(texts):\n",
    "    return model"
   ]
  }
 ],
 "metadata": {
  "kernelspec": {
   "display_name": "Python 3",
   "language": "python",
   "name": "python3"
  },
  "language_info": {
   "codemirror_mode": {
    "name": "ipython",
    "version": 3
   },
   "file_extension": ".py",
   "mimetype": "text/x-python",
   "name": "python",
   "nbconvert_exporter": "python",
   "pygments_lexer": "ipython3",
   "version": "3.9.4"
  }
 },
 "nbformat": 4,
 "nbformat_minor": 5
}
