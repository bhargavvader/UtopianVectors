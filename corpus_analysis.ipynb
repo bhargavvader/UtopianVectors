{
 "cells": [
  {
   "cell_type": "markdown",
   "id": "undefined-address",
   "metadata": {},
   "source": [
    "## Corpus Analysis\n",
    "\n",
    "In this notebook we will analyse the cleaned texts of the utopia and dystopia corpora."
   ]
  },
  {
   "cell_type": "code",
   "execution_count": 1,
   "id": "satisfactory-license",
   "metadata": {},
   "outputs": [
    {
     "name": "stderr",
     "output_type": "stream",
     "text": [
      "/Users/cdeljunco/.pyenv/versions/3.9.7/envs/nlp/lib/python3.9/site-packages/pandas/compat/__init__.py:124: UserWarning: Could not import the lzma module. Your installed Python is incomplete. Attempting to use lzma compression will result in a RuntimeError.\n",
      "  warnings.warn(msg)\n"
     ]
    }
   ],
   "source": [
    "import uv"
   ]
  },
  {
   "cell_type": "markdown",
   "id": "anonymous-embassy",
   "metadata": {},
   "source": [
    "## Embedding Analysis"
   ]
  },
  {
   "cell_type": "code",
   "execution_count": 4,
   "id": "spoken-worcester",
   "metadata": {},
   "outputs": [],
   "source": [
    "from gensim.models import Word2Vec"
   ]
  },
  {
   "cell_type": "code",
   "execution_count": 2,
   "id": "assisted-tuesday",
   "metadata": {},
   "outputs": [
    {
     "name": "stdout",
     "output_type": "stream",
     "text": [
      "note: does not include scanned pdfs\n"
     ]
    }
   ],
   "source": [
    "all_texts = uv.get_all_texts(uv.get_lemmatized_eutopia_text_dicts())"
   ]
  },
  {
   "cell_type": "code",
   "execution_count": 16,
   "id": "5516f3e6",
   "metadata": {},
   "outputs": [
    {
     "name": "stdout",
     "output_type": "stream",
     "text": [
      "721\n",
      "21626264\n",
      "29994.818307905687\n"
     ]
    }
   ],
   "source": [
    "print(len(all_texts))\n",
    "n_words = len([word for text in all_texts for word in text])\n",
    "print(n_words)\n",
    "print(n_words/len(all_texts))"
   ]
  },
  {
   "cell_type": "code",
   "execution_count": 7,
   "id": "urban-specific",
   "metadata": {},
   "outputs": [],
   "source": [
    "w2vmodel_utopia = Word2Vec(\n",
    "        all_texts,\n",
    "        size=100,\n",
    "        window=10)"
   ]
  },
  {
   "cell_type": "code",
   "execution_count": 8,
   "id": "violent-explanation",
   "metadata": {},
   "outputs": [
    {
     "name": "stdout",
     "output_type": "stream",
     "text": [
      "justice\n",
      "[('uphold', 0.789935827255249), ('conscience', 0.7629621028900146), ('unjust', 0.7477636933326721), ('equity', 0.7415547966957092), ('liberty', 0.7372094392776489), ('violation', 0.7356650233268738), ('enforce', 0.7297465801239014), ('obedience', 0.727350652217865), ('violate', 0.720452070236206), ('pledge', 0.7133994102478027)]\n",
      "man\n",
      "[('fellow', 0.5468976497650146), ('wise', 0.5112128853797913), ('smind', 0.5058407783508301), ('woman', 0.4831593930721283), ('honest', 0.4708898067474365), ('ignorant', 0.45521101355552673), ('coward', 0.44704219698905945), ('other-', 0.44057124853134155), ('brute', 0.43696117401123047), ('superior', 0.43116819858551025)]\n",
      "woman\n",
      "[('sex', 0.6113781929016113), ('female', 0.5849823951721191), ('wife', 0.5642853379249573), ('elderly', 0.5607531070709229), ('male', 0.552223265171051), ('war_club', 0.5465771555900574), ('unmarried', 0.541377067565918), ('marry', 0.5400214791297913), ('young', 0.538881242275238), ('aged', 0.5342499613761902)]\n",
      "artificial_intelligence\n",
      "[('rn', 0.8560582995414734), ('battre', 0.8480433821678162), ('immanent', 0.8470445871353149), ('coque', 0.8463655114173889), ('ascended_masters', 0.8460114002227783), ('mikrakoust', 0.8436546325683594), ('ses_jambe', 0.8421844840049744), ('dutie', 0.8408982157707214), ('l’eau', 0.8407514691352844), ('extraneous', 0.8404353857040405)]\n",
      "factory\n",
      "[('workshop', 0.8417047262191772), ('mill', 0.7861459255218506), ('manufacturing', 0.7681279182434082), ('manufactory', 0.7575329542160034), ('warehouse', 0.7556489109992981), ('unemployed', 0.7450091242790222), ('shop', 0.7419511079788208), ('grist', 0.735883891582489), ('foundry', 0.7305026650428772), ('machinery', 0.7290043830871582)]\n",
      "labour\n",
      "[('labourer', 0.8237674236297607), ('labor', 0.8236405253410339), ('employment', 0.794265866279602), ('laborer', 0.7800021767616272), ('ployment', 0.7657413482666016), ('artizan', 0.7498623728752136), ('toiler', 0.7442415356636047), ('unproductive', 0.7424226999282837), ('drudgery', 0.7306936979293823), ('workman', 0.7257587313652039)]\n",
      "state\n",
      "[('disjunctive', 0.6682453155517578), ('honse', 0.5685300827026367), ('mismating', 0.5583344101905823), ('pou', 0.558009147644043), ('foreordain', 0.5350163578987122), ('paris_agreement', 0.5257319211959839), ('constitution', 0.5227016806602478), ('legislature', 0.5215168595314026), ('republic', 0.5204015374183655), ('persevering', 0.5192084312438965)]\n",
      "economy\n",
      "[('economic', 0.8789975047111511), ('innovation', 0.8167604207992554), ('innovate', 0.8002749085426331), ('exploitation', 0.7900224328041077), ('capitalism', 0.786618173122406), ('competitive', 0.7861555814743042), ('economically', 0.7816053032875061), ('organisation', 0.7781813144683838), ('industrial', 0.7697626352310181), ('elimination', 0.7610735893249512)]\n",
      "food\n",
      "[('meat', 0.7827050685882568), ('feed', 0.7753080129623413), ('nourishment', 0.7670506834983826), ('eat', 0.7659448385238647), ('diet', 0.7578104734420776), ('feeding', 0.7449688911437988), ('larder', 0.74418044090271), ('hungry', 0.7319021224975586), ('clothing', 0.7230823636054993), ('supply', 0.7209146022796631)]\n",
      "freedom\n",
      "[('liberty', 0.8089203834533691), ('free', 0.7417637705802917), ('equality', 0.7091464996337891), ('tyranny', 0.6510905027389526), ('enslave', 0.6380972862243652), ('independence', 0.635601818561554), ('loyalty', 0.6334915161132812), ('distribution_wealth', 0.6313472986221313), ('absolute', 0.619860053062439), ('compulsion', 0.6196814775466919)]\n",
      "health\n",
      "[('bral', 0.6897037029266357), ('enjoyment', 0.6858144998550415), ('wholesome', 0.6815482378005981), ('drudgery', 0.6681884527206421), ('healthy', 0.6623849868774414), ('healthful', 0.6607046127319336), ('appetite', 0.6471138000488281), ('sick-', 0.6406718492507935), ('bodily', 0.6366623640060425), ('ennui', 0.6361985206604004)]\n",
      "time\n",
      "[('hour', 0.532347559928894), ('week', 0.4914897084236145), ('anticlimax', 0.476703941822052), ('day', 0.4763167202472687), ('twice', 0.47377997636795044), ('signpost', 0.4685167372226715), ('minute', 0.46671897172927856), ('lifetime', 0.4657122790813446), ('period', 0.4635545015335083), ('last', 0.46287617087364197)]\n",
      "home\n",
      "[('fireside', 0.589555025100708), ('family', 0.5740842223167419), ('cottage', 0.5678342580795288), ('thora', 0.557554304599762), ('town', 0.5575375556945801), ('seclusion', 0.554164707660675), ('village', 0.5522429943084717), ('household', 0.5510891675949097), ('ankeny', 0.5509985685348511), ('visit', 0.5502851009368896)]\n",
      "house\n",
      "[('tenement', 0.7391299605369568), ('mansion', 0.7237170338630676), ('apartment', 0.7187219262123108), ('lodge', 0.6998662948608398), ('cottage', 0.6919137239456177), ('building', 0.6847802400588989), ('saloon', 0.6598914861679077), ('occupant', 0.6585659980773926), ('barn', 0.6455190777778625), ('hut', 0.6399686336517334)]\n",
      "government\n",
      "[('ernment', 0.8228437900543213), ('gov', 0.8090147376060486), ('legislation', 0.7931561470031738), ('policy', 0.7656377553939819), ('legislate', 0.7550357580184937), ('administration', 0.7538880109786987), ('national', 0.7407935261726379), ('constitutional', 0.7404223680496216), ('gov-', 0.7402360439300537), ('democracy', 0.7333335280418396)]\n",
      "immigrant\n",
      "[('switzerland', 0.8278059363365173), ('china', 0.8177737593650818), ('japan', 0.8167638778686523), ('asian', 0.810852587223053), ('korea', 0.7945170402526855), ('singapore', 0.7939374446868896), ('canadian', 0.7889665961265564), ('kazakhstan', 0.7880475521087646), ('nomadic', 0.7866532206535339), ('kuwait', 0.7824274301528931)]\n",
      "safety\n",
      "[('safely', 0.7977088093757629), ('safe', 0.7219020128250122), ('danger', 0.719631552696228), ('prevent', 0.7074658870697021), ('secure', 0.6900376081466675), ('vigilance', 0.6603645086288452), ('immediate', 0.6418564319610596), ('temporarily', 0.6418271660804749), ('risk', 0.6294006109237671), ('collision', 0.626133143901825)]\n",
      "police\n",
      "[('policeman', 0.7859024405479431), ('patrol', 0.7628477811813354), ('arrest', 0.7507635951042175), ('jail', 0.7469547986984253), ('harrison', 0.7229993343353271), ('embassy', 0.7209340333938599), ('militia', 0.7190313339233398), ('detective', 0.7119228839874268), ('civilian', 0.7074265480041504), ('watchdog', 0.703613817691803)]\n",
      "crime\n",
      "[('commit', 0.8490282297134399), ('punishment', 0.8228546977043152), ('inflict', 0.8198493719100952), ('suicide', 0.8120512962341309), ('injustice', 0.8082185983657837), ('criminal', 0.7950747013092041), ('victim', 0.7950732707977295), ('murder', 0.7928513288497925), ('fraud', 0.7851983904838562), ('insanity', 0.780320405960083)]\n",
      "equality\n",
      "[('fraternity', 0.7761538624763489), ('pursuit_happiness', 0.7736977338790894), ('morality', 0.7714684009552002), ('unequal', 0.7611768245697021), ('equal_chance', 0.7589401006698608), ('ism', 0.7536945343017578), ('pendence', 0.7503814697265625), ('inherent', 0.7499378323554993), ('liberty', 0.7475301027297974), ('commercialism', 0.7434266805648804)]\n",
      "planet\n",
      "[('galaxy', 0.8327791690826416), ('planetary', 0.777010977268219), ('orbit', 0.7758681774139404), ('solar_system', 0.7482373714447021), ('earth', 0.7460694313049316), ('satellite', 0.7240204811096191), ('spaceship', 0.7216404676437378), ('habitat', 0.711778461933136), ('universe', 0.7062274813652039), ('mar', 0.6946771144866943)]\n",
      "space\n",
      "[('orbit', 0.7230761647224426), ('dimension', 0.7152165174484253), ('satellite', 0.7023084163665771), ('solar_system', 0.6993536353111267), ('universe', 0.689419686794281), ('galaxy', 0.6876431107521057), ('planetary', 0.6856780052185059), ('revolve', 0.665909469127655), ('asteroid', 0.6580893993377686), ('outer', 0.6540201902389526)]\n",
      "earth\n",
      "[('planet', 0.7460693120956421), ('jupiter', 0.7044012546539307), ('globe', 0.6749565005302429), ('heavens', 0.6739954948425293), ('universe', 0.6515055894851685), ('mar', 0.6441521048545837), ('sphere', 0.6417257189750671), ('moon', 0.6395804286003113), ('revolve', 0.6214823722839355), ('heaven', 0.608801007270813)]\n",
      "technology\n",
      "[('technological', 0.9363018870353699), ('ecological', 0.8902233242988586), ('technique', 0.8770007491111755), ('environmental', 0.8508696556091309), ('potential', 0.8497554063796997), ('basic', 0.8486989736557007), ('global', 0.8381288051605225), ('harmfulness', 0.8311967849731445), ('infrastructure', 0.8126201629638672), ('complex', 0.7919158935546875)]\n",
      "machinery\n",
      "[('machine', 0.811831533908844), ('contrivance', 0.8053512573242188), ('mechanical', 0.778994083404541), ('chinery', 0.7782579064369202), ('engine', 0.7780195474624634), ('appliance', 0.7739772200584412), ('manual', 0.7385216355323792), ('cog', 0.7362180948257446), ('factory', 0.7290043830871582), ('operate', 0.7280517816543579)]\n",
      "machine\n",
      "[('machinery', 0.811831533908844), ('device', 0.8031463623046875), ('engine', 0.7732038497924805), ('mechanical', 0.7373225688934326), ('tool', 0.7189090847969055), ('mechanism', 0.7162494659423828), ('robot', 0.7050720453262329), ('automatic', 0.6985036730766296), ('equipment', 0.6763188242912292), ('contrivance', 0.6744600534439087)]\n",
      "cyber\n",
      "[('facsimile', 0.8648830652236938), ('catalog', 0.8484294414520264), ('simstim', 0.8427783250808716), ('hosaka', 0.83570796251297), ('interactive', 0.8333582878112793), ('trademark', 0.8318004608154297), ('upload', 0.8303800821304321), ('internet', 0.8301635384559631), ('encryption', 0.8288642168045044), ('collaboration', 0.822615385055542)]\n",
      "computer\n"
     ]
    },
    {
     "name": "stdout",
     "output_type": "stream",
     "text": [
      "[('datum', 0.9105061888694763), ('monitor', 0.8812961578369141), ('coordinate', 0.881293535232544), ('electronic', 0.8799422383308411), ('programming', 0.878645658493042), ('tape', 0.8716105222702026), ('data', 0.8612123727798462), ('video', 0.8597277402877808), ('recording', 0.8580148220062256), ('random', 0.8571476936340332)]\n",
      "digital\n",
      "[('independently', 0.9084386229515076), ('ocr', 0.8910764455795288), ('google', 0.8498484492301941), ('watermark', 0.8362740874290466), ('pageturner', 0.7966036796569824), ('upload', 0.7956128716468811), ('redistribute', 0.7943112850189209), ('tm', 0.7874166965484619), ('set_forth', 0.7808956503868103), ('wafer', 0.7767702341079712)]\n",
      "industrial\n",
      "[('competitive', 0.8487110733985901), ('capitalism', 0.8127597570419312), ('industry', 0.8106957674026489), ('organise', 0.7903134822845459), ('commercial', 0.7829523086547852), ('dustrial', 0.780693531036377), ('eco', 0.7734135985374451), ('economic', 0.7730454206466675), ('economy', 0.7697626352310181), ('organisation', 0.7590208053588867)]\n",
      "future\n",
      "[('mindbende', 0.66631019115448), ('past', 0.6232678890228271), ('possibility', 0.6190783977508545), ('present', 0.613813042640686), ('predict', 0.596198558807373), ('destiny', 0.5960052013397217), ('foresee', 0.593476414680481), ('realization', 0.5918325185775757), ('fallibility', 0.578187108039856), ('commonwealtii', 0.5742406249046326)]\n",
      "automation\n",
      "[('processing', 0.8462533950805664), ('cybernation', 0.8445037603378296), ('national_security', 0.8346748352050781), ('infrastructure', 0.8322859406471252), ('seedship', 0.8320538997650146), ('stabilize', 0.8306752443313599), ('functioning', 0.8304189443588257), ('redundant', 0.8278438448905945), ('dismantle', 0.8276796340942383), ('school_system', 0.8265895843505859)]\n",
      "robot\n",
      "[('computer', 0.8525805473327637), ('tech', 0.8482070565223694), ('lab', 0.8377925157546997), ('equipment', 0.8064839243888855), ('backup', 0.8031277656555176), ('interface', 0.8021345138549805), ('monitor', 0.798713207244873), ('sense_net', 0.7972539663314819), ('upgrade', 0.7967417240142822), ('grid', 0.79670250415802)]\n",
      "science\n",
      "[('scientific', 0.7911168336868286), ('mathematic', 0.7522575259208679), ('chemistry', 0.73906409740448), ('philosophy', 0.7369338274002075), ('sci', 0.7332432866096497), ('geology', 0.7331547737121582), ('astronomy', 0.7256735563278198), ('physics', 0.7231549024581909), ('biology', 0.6925868988037109), ('sargasso', 0.6766804456710815)]\n",
      "network\n",
      "[('automate', 0.8493479490280151), ('xanadu', 0.83663409948349), ('sector', 0.8358467817306519), ('grid', 0.8345276713371277), ('infrastructure', 0.829500138759613), ('harmfulness', 0.82590252161026), ('electronic', 0.8191137313842773), ('virtual', 0.8149246573448181), ('multiple', 0.8133136034011841), ('database', 0.8127764463424683)]\n",
      "interface\n",
      "[('processing', 0.8648913502693176), ('input', 0.8513838648796082), ('feedback', 0.8512067794799805), ('neural', 0.8497679233551025), ('programming', 0.8452496528625488), ('nannite', 0.8450561761856079), ('parameter', 0.8392769694328308), ('data', 0.8330308198928833), ('coordinate', 0.8325742483139038), ('circuitry', 0.8276252150535583)]\n",
      "virtual\n",
      "[('electronic', 0.8426640033721924), ('data', 0.8415344953536987), ('currently', 0.8354831337928772), ('global', 0.8242420554161072), ('encryption', 0.8157875537872314), ('network', 0.8149246573448181), ('ongoing', 0.8110553026199341), ('spaceborne', 0.8096344470977783), ('algorithm', 0.8050422668457031), ('cyber', 0.7970072627067566)]\n",
      "military\n",
      "[('civil', 0.7568553686141968), ('soviet', 0.7550027370452881), ('naval', 0.7548236846923828), ('liberation', 0.7463967800140381), ('russian', 0.7438300251960754), ('defense', 0.7435758113861084), ('diplomatic', 0.7402821779251099), ('campaign', 0.7357250452041626), ('leadership', 0.7292330265045166), ('elite', 0.7263463735580444)]\n",
      "engineer\n",
      "[('expert', 0.8190493583679199), ('engineering', 0.810333251953125), ('operator', 0.7780091762542725), ('electrician', 0.7486776113510132), ('technician', 0.7449929118156433), ('aerospace', 0.7276594638824463), ('installation', 0.7178900241851807), ('pilatus', 0.716877281665802), ('usaf', 0.7156513333320618), ('washington_carver', 0.7048314809799194)]\n",
      "system\n",
      "[('eliminate', 0.7206620573997498), ('method', 0.7156891822814941), ('sys', 0.7096855640411377), ('competitive', 0.7064388990402222), ('capitalism', 0.6909459829330444), ('governmental', 0.6741868853569031), ('economic', 0.6627930402755737), ('distribution', 0.6623983383178711), ('basis', 0.6601375937461853), ('tem', 0.654920756816864)]\n"
     ]
    }
   ],
   "source": [
    "for word in uv.lemmatize_search_words():\n",
    "    print(word)\n",
    "    print(w2vmodel_utopia.wv.most_similar(word))"
   ]
  },
  {
   "cell_type": "markdown",
   "id": "protecting-orientation",
   "metadata": {},
   "source": [
    "## Visualisation Plans\n",
    "Create embeddings for each book using doc2vec.\n",
    "\n",
    "tSNE plot of books, color by \n",
    "\n",
    "- year, \n",
    "- author demography, \n",
    "- or even just utopia/dystopia\n",
    "\n",
    "\n",
    "Visualise certain words in embedding space vs normal embedding space\n",
    "\n"
   ]
  },
  {
   "cell_type": "code",
   "execution_count": 24,
   "id": "accepted-desktop",
   "metadata": {},
   "outputs": [],
   "source": [
    "import gensim"
   ]
  },
  {
   "cell_type": "code",
   "execution_count": 28,
   "id": "cubic-backup",
   "metadata": {},
   "outputs": [],
   "source": [
    "taggedDocs = []"
   ]
  },
  {
   "cell_type": "code",
   "execution_count": 29,
   "id": "conditional-belarus",
   "metadata": {},
   "outputs": [],
   "source": [
    "i = 0"
   ]
  },
  {
   "cell_type": "code",
   "execution_count": 30,
   "id": "individual-somerset",
   "metadata": {},
   "outputs": [],
   "source": [
    "for text in all_cleaned_texts_utopia + all_cleaned_texts_dystopia:\n",
    "    taggedDocs.append(gensim.models.doc2vec.TaggedDocument(words = text, tags = [i]))\n",
    "    i +=1"
   ]
  },
  {
   "cell_type": "code",
   "execution_count": 26,
   "id": "speaking-index",
   "metadata": {},
   "outputs": [],
   "source": [
    "doc2vec_model = gensim.models.doc2vec.Doc2Vec(vector_size=50, min_count=2, epochs=40)"
   ]
  },
  {
   "cell_type": "code",
   "execution_count": 31,
   "id": "instant-gothic",
   "metadata": {},
   "outputs": [],
   "source": [
    "doc2vec_model.build_vocab(taggedDocs)"
   ]
  },
  {
   "cell_type": "code",
   "execution_count": 32,
   "id": "extraordinary-sydney",
   "metadata": {},
   "outputs": [],
   "source": [
    "doc2vec_model.train(taggedDocs, total_examples=doc2vec_model.corpus_count, epochs=doc2vec_model.epochs)"
   ]
  },
  {
   "cell_type": "code",
   "execution_count": 33,
   "id": "latin-vanilla",
   "metadata": {},
   "outputs": [],
   "source": [
    "utopia_vecs = {}"
   ]
  },
  {
   "cell_type": "code",
   "execution_count": 34,
   "id": "objective-scholarship",
   "metadata": {},
   "outputs": [],
   "source": [
    "for text in cleaned_texts_pdf:\n",
    "    utopia_vecs[text] = [doc2vec_model.infer_vector(cleaned_texts_pdf[text])]"
   ]
  },
  {
   "cell_type": "code",
   "execution_count": 35,
   "id": "destroyed-newman",
   "metadata": {},
   "outputs": [],
   "source": [
    "for text in cleaned_texts_epub_txt:\n",
    "    utopia_vecs[text] = [doc2vec_model.infer_vector(cleaned_texts_epub_txt[text])]"
   ]
  },
  {
   "cell_type": "code",
   "execution_count": 36,
   "id": "certified-debate",
   "metadata": {},
   "outputs": [],
   "source": [
    "dystopia_vecs = {}"
   ]
  },
  {
   "cell_type": "code",
   "execution_count": 37,
   "id": "blond-button",
   "metadata": {},
   "outputs": [],
   "source": [
    "for text in cleaned_texts_dystopia:\n",
    "    dystopia_vecs[text] = [doc2vec_model.infer_vector(cleaned_texts_dystopia[text])]"
   ]
  },
  {
   "cell_type": "code",
   "execution_count": 41,
   "id": "comfortable-highland",
   "metadata": {},
   "outputs": [],
   "source": [
    "import numpy as np"
   ]
  },
  {
   "cell_type": "code",
   "execution_count": 42,
   "id": "subtle-negative",
   "metadata": {},
   "outputs": [],
   "source": [
    "utopia_labels = np.zeros(len(utopia_vecs))"
   ]
  },
  {
   "cell_type": "code",
   "execution_count": 46,
   "id": "herbal-hampton",
   "metadata": {},
   "outputs": [
    {
     "data": {
      "text/plain": [
       "725"
      ]
     },
     "execution_count": 46,
     "metadata": {},
     "output_type": "execute_result"
    }
   ],
   "source": [
    "len(utopia_vecs)"
   ]
  },
  {
   "cell_type": "code",
   "execution_count": 47,
   "id": "furnished-marble",
   "metadata": {},
   "outputs": [
    {
     "data": {
      "text/plain": [
       "67"
      ]
     },
     "execution_count": 47,
     "metadata": {},
     "output_type": "execute_result"
    }
   ],
   "source": [
    "len(dystopia_vecs)"
   ]
  },
  {
   "cell_type": "code",
   "execution_count": 43,
   "id": "royal-chick",
   "metadata": {},
   "outputs": [],
   "source": [
    "dystopia_labels = np.ones(len(dystopia_vecs))"
   ]
  },
  {
   "cell_type": "code",
   "execution_count": 44,
   "id": "micro-homework",
   "metadata": {},
   "outputs": [],
   "source": [
    "from yellowbrick.text import TSNEVisualizer, UMAPVisualizer"
   ]
  },
  {
   "cell_type": "code",
   "execution_count": 45,
   "id": "determined-participation",
   "metadata": {},
   "outputs": [],
   "source": [
    "umap = UMAPVisualizer()"
   ]
  },
  {
   "cell_type": "code",
   "execution_count": null,
   "id": "hearing-pepper",
   "metadata": {},
   "outputs": [],
   "source": [
    "umap.fit(utopia_vecs, labels[0:1000])\n",
    "umap.show()"
   ]
  },
  {
   "cell_type": "markdown",
   "id": "nutritional-praise",
   "metadata": {},
   "source": [
    "## Linguistic Counts and Measures"
   ]
  },
  {
   "cell_type": "code",
   "execution_count": null,
   "id": "amber-sewing",
   "metadata": {},
   "outputs": [],
   "source": [
    "def text_summaries(cleaned_texts, num_topics=5):\n",
    "    \n",
    "    word_use = {}\n",
    "    for text in cleaned_texts:\n",
    "        for word in text:\n",
    "            if word not in word_use:\n",
    "                word_use[word] = 0\n",
    "            if word in word_use:\n",
    "                word_use[word] += 1\n",
    "    \n",
    "    total_words = sum(word_use.values())\n",
    "    \n",
    "    sorted_words = sorted(word_use.items(), key=operator.itemgetter(1))\n",
    "    sorted_words.reverse()\n",
    "\n",
    "    dictionary = Dictionary(cleaned_texts)\n",
    "    corpus = [dictionary.doc2bow(text) for text in cleaned_texts]\n",
    "    ldamodel = LdaModel(corpus=corpus, num_topics=num_topics, id2word=dictionary, passes=10, iterations=500)\n",
    "    \n",
    "    tf_idf_model = TfidfModel(corpus)\n",
    "    tf_idf_texts = tf_idf_model[corpus]\n",
    "    \n",
    "    d = {dictionary.get(id): value for doc in tf_idf_texts for id, value in doc}\n",
    "    sorted_d = sorted(d.items(), key=operator.itemgetter(1))\n",
    "    sorted_d.reverse()\n",
    "    \n",
    "    print(\"Total number of documents: \" + str(total_docs))\n",
    "    print(\"Average length of text: \" + str(avg_len))\n",
    "    print(\" \")\n",
    "    print(\"The top 5 tf-idf scores:\")\n",
    "    print(sorted_d[0:5])\n",
    "    print(\" \")\n",
    "    print(\"The top 20 most used words:\")\n",
    "    print(sorted_words[0:20])\n",
    "    print(\" \")\n",
    "    print(\"Topic Model with 5 topics\")\n",
    "    print(ldamodel.print_topics())\n",
    "    return cleaned_texts, ldamodel"
   ]
  },
  {
   "cell_type": "markdown",
   "id": "pending-indianapolis",
   "metadata": {},
   "source": [
    "TODO:\n",
    "\n",
    "- compare bootstrapped model (utopia) vs google news model\n",
    "- plots by decade, plots by demography (gender, race, location, sexuality)\n",
    "- time periods vs usage of certain concepts, such as nature, climate\n",
    "- formation of labour/labor before and after 1970s\n",
    "- lemmatization\n",
    "- microgenres by time period\n",
    "- words and markers of genre\n",
    "- elements across time\n",
    "\n",
    "Research questions: Are utopian and dystopian fiction genres of infrastructure? How? Is this more the case for utopia than dystopia? Literature of boredom (infrastructure) versus romance?"
   ]
  },
  {
   "cell_type": "code",
   "execution_count": null,
   "id": "active-dependence",
   "metadata": {},
   "outputs": [],
   "source": []
  }
 ],
 "metadata": {
  "kernelspec": {
   "display_name": "Python 3 (ipykernel)",
   "language": "python",
   "name": "python3"
  },
  "language_info": {
   "codemirror_mode": {
    "name": "ipython",
    "version": 3
   },
   "file_extension": ".py",
   "mimetype": "text/x-python",
   "name": "python",
   "nbconvert_exporter": "python",
   "pygments_lexer": "ipython3",
   "version": "3.9.7"
  }
 },
 "nbformat": 4,
 "nbformat_minor": 5
}
