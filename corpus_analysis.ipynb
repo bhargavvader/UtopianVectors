{
 "cells": [
  {
   "cell_type": "markdown",
   "id": "undefined-address",
   "metadata": {},
   "source": [
    "## Corpus Analysis\n",
    "\n",
    "In this notebook we will analyse the cleaned texts of the utopia and dystopia corpora."
   ]
  },
  {
   "cell_type": "code",
   "execution_count": 1,
   "id": "satisfactory-license",
   "metadata": {},
   "outputs": [],
   "source": [
    "import json"
   ]
  },
  {
   "cell_type": "code",
   "execution_count": 7,
   "id": "married-phrase",
   "metadata": {},
   "outputs": [],
   "source": [
    "import pandas as pd"
   ]
  },
  {
   "cell_type": "code",
   "execution_count": 2,
   "id": "imperial-gallery",
   "metadata": {},
   "outputs": [],
   "source": [
    "with open('cleaned_texts_pdf.json') as json_file:\n",
    "    cleaned_texts_pdf = json.load(json_file)"
   ]
  },
  {
   "cell_type": "code",
   "execution_count": 3,
   "id": "impressive-language",
   "metadata": {},
   "outputs": [],
   "source": [
    "with open('cleaned_texts_epub_txt.json') as json_file:\n",
    "    cleaned_texts_epub_txt = json.load(json_file)"
   ]
  },
  {
   "cell_type": "code",
   "execution_count": 4,
   "id": "optional-bundle",
   "metadata": {},
   "outputs": [],
   "source": [
    "with open('cleaned_texts_dystopia.json') as json_file:\n",
    "    cleaned_texts_dystopia = json.load(json_file)"
   ]
  },
  {
   "cell_type": "code",
   "execution_count": 8,
   "id": "smooth-muscle",
   "metadata": {},
   "outputs": [],
   "source": [
    "book_info_utopia = pd.read_csv(\"eutopia_september9.csv\")"
   ]
  },
  {
   "cell_type": "code",
   "execution_count": 9,
   "id": "isolated-flower",
   "metadata": {},
   "outputs": [],
   "source": [
    "book_info_dystopia = pd.read_csv(\"dystopia_september18.csv\")"
   ]
  },
  {
   "cell_type": "code",
   "execution_count": 48,
   "id": "downtown-format",
   "metadata": {},
   "outputs": [
    {
     "data": {
      "text/html": [
       "<div>\n",
       "<style scoped>\n",
       "    .dataframe tbody tr th:only-of-type {\n",
       "        vertical-align: middle;\n",
       "    }\n",
       "\n",
       "    .dataframe tbody tr th {\n",
       "        vertical-align: top;\n",
       "    }\n",
       "\n",
       "    .dataframe thead th {\n",
       "        text-align: right;\n",
       "    }\n",
       "</style>\n",
       "<table border=\"1\" class=\"dataframe\">\n",
       "  <thead>\n",
       "    <tr style=\"text-align: right;\">\n",
       "      <th></th>\n",
       "      <th>Unnamed: 0</th>\n",
       "      <th>author</th>\n",
       "      <th>title</th>\n",
       "      <th>url</th>\n",
       "      <th>ID</th>\n",
       "      <th>added</th>\n",
       "      <th>jode_notes</th>\n",
       "      <th>keywords</th>\n",
       "      <th>abstract</th>\n",
       "      <th>address</th>\n",
       "      <th>...</th>\n",
       "      <th>month</th>\n",
       "      <th>year</th>\n",
       "      <th>howpublished</th>\n",
       "      <th>ENTRYTYPE</th>\n",
       "      <th>editor</th>\n",
       "      <th>pages</th>\n",
       "      <th>isbn</th>\n",
       "      <th>note</th>\n",
       "      <th>volume</th>\n",
       "      <th>issn</th>\n",
       "    </tr>\n",
       "  </thead>\n",
       "  <tbody>\n",
       "    <tr>\n",
       "      <th>0</th>\n",
       "      <td>1</td>\n",
       "      <td>Justina [Louise Alice] Robson (b. 1968)</td>\n",
       "      <td>Paper Hearts</td>\n",
       "      <td>NaN</td>\n",
       "      <td>11187</td>\n",
       "      <td>NaN</td>\n",
       "      <td>NaN</td>\n",
       "      <td>English author, Female author</td>\n",
       "      <td>&lt;p class=\"indent\"&gt;one of a set of novellas pub...</td>\n",
       "      <td>[Weston, Eng.]</td>\n",
       "      <td>...</td>\n",
       "      <td>2020</td>\n",
       "      <td>2020.0</td>\n",
       "      <td>NaN</td>\n",
       "      <td>booklet</td>\n",
       "      <td>NaN</td>\n",
       "      <td>91 pp.</td>\n",
       "      <td>978-1-912950-53-9</td>\n",
       "      <td>NaN</td>\n",
       "      <td>NaN</td>\n",
       "      <td>NaN</td>\n",
       "    </tr>\n",
       "    <tr>\n",
       "      <th>1</th>\n",
       "      <td>2</td>\n",
       "      <td>Octavia Cade</td>\n",
       "      <td>{\\textquotedblleft}Resilience{\\textquotedblright}</td>\n",
       "      <td>https://www.stuff.co.nz/environment/climate-ne...</td>\n",
       "      <td>10813</td>\n",
       "      <td>yes</td>\n",
       "      <td>NaN</td>\n",
       "      <td>Aotearoa/New Zealand author, Female author</td>\n",
       "      <td>&lt;p&gt;the story is set in wellington, new zealand...</td>\n",
       "      <td>NaN</td>\n",
       "      <td>...</td>\n",
       "      <td>24-Jun-20</td>\n",
       "      <td>2020.0</td>\n",
       "      <td>Stuff</td>\n",
       "      <td>booklet</td>\n",
       "      <td>NaN</td>\n",
       "      <td>NaN</td>\n",
       "      <td>NaN</td>\n",
       "      <td>NaN</td>\n",
       "      <td>NaN</td>\n",
       "      <td>NaN</td>\n",
       "    </tr>\n",
       "    <tr>\n",
       "      <th>2</th>\n",
       "      <td>3</td>\n",
       "      <td>Joshua Spiller</td>\n",
       "      <td>The 8th Emotion</td>\n",
       "      <td>NaN</td>\n",
       "      <td>10488</td>\n",
       "      <td>NaN</td>\n",
       "      <td>NaN</td>\n",
       "      <td>Australian author, Male author</td>\n",
       "      <td>&lt;p&gt;the novel begins in a flawed eutopia organi...</td>\n",
       "      <td>Np</td>\n",
       "      <td>...</td>\n",
       "      <td>2019</td>\n",
       "      <td>2019.0</td>\n",
       "      <td>NaN</td>\n",
       "      <td>booklet</td>\n",
       "      <td>NaN</td>\n",
       "      <td>340 pp</td>\n",
       "      <td>NaN</td>\n",
       "      <td>NaN</td>\n",
       "      <td>NaN</td>\n",
       "      <td>NaN</td>\n",
       "    </tr>\n",
       "    <tr>\n",
       "      <th>3</th>\n",
       "      <td>4</td>\n",
       "      <td>Calum L. MacLe{\\`o}id</td>\n",
       "      <td>\"Flourish\"</td>\n",
       "      <td>NaN</td>\n",
       "      <td>10447</td>\n",
       "      <td>NaN</td>\n",
       "      <td>NaN</td>\n",
       "      <td>Male author, Scottish author</td>\n",
       "      <td>&lt;p&gt;the story is set in a future of sentient ci...</td>\n",
       "      <td>NaN</td>\n",
       "      <td>...</td>\n",
       "      <td>19-Apr</td>\n",
       "      <td>2019.0</td>\n",
       "      <td>Shoreline of Infinity</td>\n",
       "      <td>booklet</td>\n",
       "      <td>NaN</td>\n",
       "      <td>70-80</td>\n",
       "      <td>NaN</td>\n",
       "      <td>NaN</td>\n",
       "      <td>no. 16</td>\n",
       "      <td>2059-2590</td>\n",
       "    </tr>\n",
       "    <tr>\n",
       "      <th>4</th>\n",
       "      <td>5</td>\n",
       "      <td>Rob Hopkins</td>\n",
       "      <td>From What Is to What If: Unleashing the Power ...</td>\n",
       "      <td>https://1lib.us/book/5890174/975332</td>\n",
       "      <td>11186</td>\n",
       "      <td>yes</td>\n",
       "      <td>NaN</td>\n",
       "      <td>English author, Irish author, Male author</td>\n",
       "      <td>&lt;p&gt;the book begins with a brief eutopia that t...</td>\n",
       "      <td>. White River Junction, VT/London</td>\n",
       "      <td>...</td>\n",
       "      <td>2019</td>\n",
       "      <td>2019.0</td>\n",
       "      <td>NaN</td>\n",
       "      <td>booklet</td>\n",
       "      <td>NaN</td>\n",
       "      <td>229 pp.</td>\n",
       "      <td>978-1603589055</td>\n",
       "      <td>NaN</td>\n",
       "      <td>NaN</td>\n",
       "      <td>NaN</td>\n",
       "    </tr>\n",
       "    <tr>\n",
       "      <th>...</th>\n",
       "      <td>...</td>\n",
       "      <td>...</td>\n",
       "      <td>...</td>\n",
       "      <td>...</td>\n",
       "      <td>...</td>\n",
       "      <td>...</td>\n",
       "      <td>...</td>\n",
       "      <td>...</td>\n",
       "      <td>...</td>\n",
       "      <td>...</td>\n",
       "      <td>...</td>\n",
       "      <td>...</td>\n",
       "      <td>...</td>\n",
       "      <td>...</td>\n",
       "      <td>...</td>\n",
       "      <td>...</td>\n",
       "      <td>...</td>\n",
       "      <td>...</td>\n",
       "      <td>...</td>\n",
       "      <td>...</td>\n",
       "      <td>...</td>\n",
       "    </tr>\n",
       "    <tr>\n",
       "      <th>2159</th>\n",
       "      <td>2547</td>\n",
       "      <td>B[urrhus] F[rederick] Skinner (1904-90)</td>\n",
       "      <td>Walden Two</td>\n",
       "      <td>http://library.lol/fiction/400C8399BF54D32A227...</td>\n",
       "      <td>1303</td>\n",
       "      <td>yes</td>\n",
       "      <td>NaN</td>\n",
       "      <td>Male author, US author</td>\n",
       "      <td>&lt;p&gt;Eutopia brought about through behavioral en...</td>\n",
       "      <td>New York</td>\n",
       "      <td>...</td>\n",
       "      <td>1948</td>\n",
       "      <td>1948.0</td>\n",
       "      <td>NaN</td>\n",
       "      <td>booklet</td>\n",
       "      <td>NaN</td>\n",
       "      <td>NaN</td>\n",
       "      <td>NaN</td>\n",
       "      <td>&lt;p&gt;Reissued with new introduction by the autho...</td>\n",
       "      <td>NaN</td>\n",
       "      <td>NaN</td>\n",
       "    </tr>\n",
       "    <tr>\n",
       "      <th>2160</th>\n",
       "      <td>2548</td>\n",
       "      <td>Octavia [Estelle] Butler (1947-2006)</td>\n",
       "      <td>Dawn: Xenogenesis</td>\n",
       "      <td>http://library.lol/fiction/4516E964E1ED1A989D5...</td>\n",
       "      <td>3807</td>\n",
       "      <td>yes</td>\n",
       "      <td>NaN</td>\n",
       "      <td>African American author, Female author</td>\n",
       "      <td>&lt;p&gt;Post-catastrophe novel in which the few rem...</td>\n",
       "      <td>New York</td>\n",
       "      <td>...</td>\n",
       "      <td>1987</td>\n",
       "      <td>1987.0</td>\n",
       "      <td>NaN</td>\n",
       "      <td>booklet</td>\n",
       "      <td>NaN</td>\n",
       "      <td>NaN</td>\n",
       "      <td>NaN</td>\n",
       "      <td>&lt;p&gt;Rpt. in her\\&amp;nbsp;&lt;em&gt;Lilith\\&amp;$\\#$39;s Broo...</td>\n",
       "      <td>NaN</td>\n",
       "      <td>NaN</td>\n",
       "    </tr>\n",
       "    <tr>\n",
       "      <th>2161</th>\n",
       "      <td>NaN</td>\n",
       "      <td>NaN</td>\n",
       "      <td>NaN</td>\n",
       "      <td>NaN</td>\n",
       "      <td>NaN</td>\n",
       "      <td>NaN</td>\n",
       "      <td>NaN</td>\n",
       "      <td>NaN</td>\n",
       "      <td>NaN</td>\n",
       "      <td>NaN</td>\n",
       "      <td>...</td>\n",
       "      <td>NaN</td>\n",
       "      <td>NaN</td>\n",
       "      <td>NaN</td>\n",
       "      <td>NaN</td>\n",
       "      <td>NaN</td>\n",
       "      <td>NaN</td>\n",
       "      <td>NaN</td>\n",
       "      <td>NaN</td>\n",
       "      <td>NaN</td>\n",
       "      <td>NaN</td>\n",
       "    </tr>\n",
       "    <tr>\n",
       "      <th>2162</th>\n",
       "      <td>Suggestions</td>\n",
       "      <td>NaN</td>\n",
       "      <td>NaN</td>\n",
       "      <td>NaN</td>\n",
       "      <td>NaN</td>\n",
       "      <td>NaN</td>\n",
       "      <td>NaN</td>\n",
       "      <td>NaN</td>\n",
       "      <td>NaN</td>\n",
       "      <td>NaN</td>\n",
       "      <td>...</td>\n",
       "      <td>NaN</td>\n",
       "      <td>NaN</td>\n",
       "      <td>NaN</td>\n",
       "      <td>NaN</td>\n",
       "      <td>NaN</td>\n",
       "      <td>NaN</td>\n",
       "      <td>NaN</td>\n",
       "      <td>NaN</td>\n",
       "      <td>NaN</td>\n",
       "      <td>NaN</td>\n",
       "    </tr>\n",
       "    <tr>\n",
       "      <th>2163</th>\n",
       "      <td>NaN</td>\n",
       "      <td>https://openlab.citytech.cuny.edu/belli-sp2014...</td>\n",
       "      <td>NaN</td>\n",
       "      <td>NaN</td>\n",
       "      <td>NaN</td>\n",
       "      <td>NaN</td>\n",
       "      <td>Writings by children about their ideal utopia</td>\n",
       "      <td>NaN</td>\n",
       "      <td>NaN</td>\n",
       "      <td>NaN</td>\n",
       "      <td>...</td>\n",
       "      <td>NaN</td>\n",
       "      <td>NaN</td>\n",
       "      <td>NaN</td>\n",
       "      <td>NaN</td>\n",
       "      <td>NaN</td>\n",
       "      <td>NaN</td>\n",
       "      <td>NaN</td>\n",
       "      <td>NaN</td>\n",
       "      <td>NaN</td>\n",
       "      <td>NaN</td>\n",
       "    </tr>\n",
       "  </tbody>\n",
       "</table>\n",
       "<p>2164 rows × 21 columns</p>\n",
       "</div>"
      ],
      "text/plain": [
       "       Unnamed: 0                                             author  \\\n",
       "0               1            Justina [Louise Alice] Robson (b. 1968)   \n",
       "1               2                                       Octavia Cade   \n",
       "2               3                                     Joshua Spiller   \n",
       "3               4                              Calum L. MacLe{\\`o}id   \n",
       "4               5                                        Rob Hopkins   \n",
       "...           ...                                                ...   \n",
       "2159         2547            B[urrhus] F[rederick] Skinner (1904-90)   \n",
       "2160         2548               Octavia [Estelle] Butler (1947-2006)   \n",
       "2161          NaN                                                NaN   \n",
       "2162  Suggestions                                                NaN   \n",
       "2163          NaN  https://openlab.citytech.cuny.edu/belli-sp2014...   \n",
       "\n",
       "                                                  title  \\\n",
       "0                                          Paper Hearts   \n",
       "1     {\\textquotedblleft}Resilience{\\textquotedblright}   \n",
       "2                                       The 8th Emotion   \n",
       "3                                            \"Flourish\"   \n",
       "4     From What Is to What If: Unleashing the Power ...   \n",
       "...                                                 ...   \n",
       "2159                                         Walden Two   \n",
       "2160                                  Dawn: Xenogenesis   \n",
       "2161                                                NaN   \n",
       "2162                                                NaN   \n",
       "2163                                                NaN   \n",
       "\n",
       "                                                    url     ID added  \\\n",
       "0                                                   NaN  11187   NaN   \n",
       "1     https://www.stuff.co.nz/environment/climate-ne...  10813   yes   \n",
       "2                                                   NaN  10488   NaN   \n",
       "3                                                   NaN  10447   NaN   \n",
       "4                   https://1lib.us/book/5890174/975332  11186   yes   \n",
       "...                                                 ...    ...   ...   \n",
       "2159  http://library.lol/fiction/400C8399BF54D32A227...   1303   yes   \n",
       "2160  http://library.lol/fiction/4516E964E1ED1A989D5...   3807   yes   \n",
       "2161                                                NaN    NaN   NaN   \n",
       "2162                                                NaN    NaN   NaN   \n",
       "2163                                                NaN    NaN   NaN   \n",
       "\n",
       "                                         jode_notes  \\\n",
       "0                                               NaN   \n",
       "1                                               NaN   \n",
       "2                                               NaN   \n",
       "3                                               NaN   \n",
       "4                                               NaN   \n",
       "...                                             ...   \n",
       "2159                                            NaN   \n",
       "2160                                            NaN   \n",
       "2161                                            NaN   \n",
       "2162                                            NaN   \n",
       "2163  Writings by children about their ideal utopia   \n",
       "\n",
       "                                        keywords  \\\n",
       "0                  English author, Female author   \n",
       "1     Aotearoa/New Zealand author, Female author   \n",
       "2                 Australian author, Male author   \n",
       "3                   Male author, Scottish author   \n",
       "4      English author, Irish author, Male author   \n",
       "...                                          ...   \n",
       "2159                      Male author, US author   \n",
       "2160      African American author, Female author   \n",
       "2161                                         NaN   \n",
       "2162                                         NaN   \n",
       "2163                                         NaN   \n",
       "\n",
       "                                               abstract  \\\n",
       "0     <p class=\"indent\">one of a set of novellas pub...   \n",
       "1     <p>the story is set in wellington, new zealand...   \n",
       "2     <p>the novel begins in a flawed eutopia organi...   \n",
       "3     <p>the story is set in a future of sentient ci...   \n",
       "4     <p>the book begins with a brief eutopia that t...   \n",
       "...                                                 ...   \n",
       "2159  <p>Eutopia brought about through behavioral en...   \n",
       "2160  <p>Post-catastrophe novel in which the few rem...   \n",
       "2161                                                NaN   \n",
       "2162                                                NaN   \n",
       "2163                                                NaN   \n",
       "\n",
       "                                address  ...      month    year  \\\n",
       "0                        [Weston, Eng.]  ...       2020  2020.0   \n",
       "1                                   NaN  ...  24-Jun-20  2020.0   \n",
       "2                                    Np  ...       2019  2019.0   \n",
       "3                                   NaN  ...     19-Apr  2019.0   \n",
       "4     . White River Junction, VT/London  ...       2019  2019.0   \n",
       "...                                 ...  ...        ...     ...   \n",
       "2159                           New York  ...       1948  1948.0   \n",
       "2160                           New York  ...       1987  1987.0   \n",
       "2161                                NaN  ...        NaN     NaN   \n",
       "2162                                NaN  ...        NaN     NaN   \n",
       "2163                                NaN  ...        NaN     NaN   \n",
       "\n",
       "               howpublished ENTRYTYPE editor    pages               isbn  \\\n",
       "0                       NaN   booklet    NaN   91 pp.  978-1-912950-53-9   \n",
       "1                    Stuff    booklet    NaN      NaN                NaN   \n",
       "2                       NaN   booklet    NaN   340 pp                NaN   \n",
       "3     Shoreline of Infinity   booklet    NaN    70-80                NaN   \n",
       "4                       NaN   booklet    NaN  229 pp.     978-1603589055   \n",
       "...                     ...       ...    ...      ...                ...   \n",
       "2159                    NaN   booklet    NaN      NaN                NaN   \n",
       "2160                    NaN   booklet    NaN      NaN                NaN   \n",
       "2161                    NaN       NaN    NaN      NaN                NaN   \n",
       "2162                    NaN       NaN    NaN      NaN                NaN   \n",
       "2163                    NaN       NaN    NaN      NaN                NaN   \n",
       "\n",
       "                                                   note  volume       issn  \n",
       "0                                                   NaN     NaN        NaN  \n",
       "1                                                   NaN     NaN        NaN  \n",
       "2                                                   NaN     NaN        NaN  \n",
       "3                                                   NaN  no. 16  2059-2590  \n",
       "4                                                   NaN     NaN        NaN  \n",
       "...                                                 ...     ...        ...  \n",
       "2159  <p>Reissued with new introduction by the autho...     NaN        NaN  \n",
       "2160  <p>Rpt. in her\\&nbsp;<em>Lilith\\&$\\#$39;s Broo...     NaN        NaN  \n",
       "2161                                                NaN     NaN        NaN  \n",
       "2162                                                NaN     NaN        NaN  \n",
       "2163                                                NaN     NaN        NaN  \n",
       "\n",
       "[2164 rows x 21 columns]"
      ]
     },
     "execution_count": 48,
     "metadata": {},
     "output_type": "execute_result"
    }
   ],
   "source": [
    "book_info_utopia"
   ]
  },
  {
   "cell_type": "markdown",
   "id": "anonymous-embassy",
   "metadata": {},
   "source": [
    "## Embedding Analysis"
   ]
  },
  {
   "cell_type": "code",
   "execution_count": 5,
   "id": "spoken-worcester",
   "metadata": {},
   "outputs": [],
   "source": [
    "from gensim.models import Word2Vec\n"
   ]
  },
  {
   "cell_type": "code",
   "execution_count": 10,
   "id": "assisted-tuesday",
   "metadata": {},
   "outputs": [],
   "source": [
    "all_cleaned_texts_utopia = []"
   ]
  },
  {
   "cell_type": "code",
   "execution_count": 11,
   "id": "aging-michigan",
   "metadata": {},
   "outputs": [],
   "source": [
    "for text in cleaned_texts_pdf:\n",
    "    all_cleaned_texts_utopia.append(cleaned_texts_pdf[text])"
   ]
  },
  {
   "cell_type": "code",
   "execution_count": 12,
   "id": "lonely-priority",
   "metadata": {},
   "outputs": [],
   "source": [
    "for text in cleaned_texts_epub_txt:\n",
    "    all_cleaned_texts_utopia.append(cleaned_texts_epub_txt[text])"
   ]
  },
  {
   "cell_type": "code",
   "execution_count": 13,
   "id": "tracked-validation",
   "metadata": {},
   "outputs": [],
   "source": [
    "all_cleaned_texts_dystopia = []"
   ]
  },
  {
   "cell_type": "code",
   "execution_count": 14,
   "id": "infrared-granny",
   "metadata": {},
   "outputs": [],
   "source": [
    "for text in cleaned_texts_dystopia:\n",
    "    all_cleaned_texts_dystopia.append(cleaned_texts_dystopia[text])"
   ]
  },
  {
   "cell_type": "code",
   "execution_count": 15,
   "id": "urban-specific",
   "metadata": {},
   "outputs": [],
   "source": [
    "w2vmodel_utopia = Word2Vec(\n",
    "        all_cleaned_texts_utopia,\n",
    "        vector_size=100,\n",
    "        window=10)"
   ]
  },
  {
   "cell_type": "code",
   "execution_count": 16,
   "id": "egyptian-attachment",
   "metadata": {},
   "outputs": [],
   "source": [
    "w2vmodel_dystopia = Word2Vec(\n",
    "        all_cleaned_texts_dystopia,\n",
    "        vector_size=100,\n",
    "        window=10)"
   ]
  },
  {
   "cell_type": "code",
   "execution_count": 17,
   "id": "floating-porter",
   "metadata": {},
   "outputs": [],
   "source": [
    "search_words = ['justice', 'man', 'woman', 'artificial_intelligence', 'factory', 'labour', 'state',\n",
    "                'economy', 'food', 'freedom', 'health', 'time', 'home', 'house', 'government', 'immigrant',\n",
    "                'safety', 'police', 'policing', 'crime', 'equality', 'planet', 'space', 'earth']"
   ]
  },
  {
   "cell_type": "code",
   "execution_count": 18,
   "id": "violent-explanation",
   "metadata": {},
   "outputs": [
    {
     "name": "stdout",
     "output_type": "stream",
     "text": [
      "justice\n",
      "[('liberty', 0.8076990842819214), ('wrongs', 0.7984049916267395), ('unjust', 0.7844486832618713), ('equality', 0.7755717635154724), ('violation', 0.7708358764648438), ('equity', 0.7641591429710388), ('conscience', 0.7636420726776123), ('enforce', 0.7624401450157166), ('forbid', 0.7572692632675171), ('uphold', 0.7547787427902222)]\n",
      "man\n",
      "[('woman', 0.5914245247840881), ('person', 0.4954065978527069), ('muzzled', 0.4884992837905884), ('fellow', 0.479017436504364), ('mate', 0.47425103187561035), ('mitten', 0.45261049270629883), ('master', 0.44891104102134705), ('manity', 0.4453599154949188), ('devil', 0.4372256398200989), ('creature', 0.43598252534866333)]\n",
      "woman\n",
      "[('girl', 0.650277316570282), ('elderly', 0.6126173734664917), ('thorgunna', 0.6111823320388794), ('wife', 0.605719804763794), ('marry', 0.6029843091964722), ('aged', 0.6002123355865479), ('husband', 0.594730019569397), ('man', 0.5914246439933777), ('sister-', 0.5885756611824036), ('married', 0.5826367735862732)]\n",
      "artificial_intelligence\n",
      "[('controllers', 0.8795051574707031), ('servicing', 0.8723145127296448), ('constructively', 0.8713949918746948), ('coordinate', 0.871260941028595), ('episteme', 0.8699313998222351), ('unthinkingly', 0.8661553263664246), ('quotas', 0.8660436272621155), ('upgraded', 0.8629843592643738), ('improvisatory', 0.8592482805252075), ('cutoff', 0.8579558730125427)]\n",
      "factory\n",
      "[('shops', 0.8773028254508972), ('mills', 0.842052698135376), ('stores', 0.8358522057533264), ('shop', 0.8213125467300415), ('workshops', 0.8186842799186707), ('factories', 0.816693127155304), ('rented', 0.8076654076576233), ('carpenters', 0.8010311126708984), ('blacksmith', 0.7991564869880676), ('laundry', 0.7965232133865356)]\n",
      "labour\n",
      "[('employment', 0.8352830410003662), ('labourers', 0.8142633438110352), ('labor', 0.8101305365562439), ('labourer', 0.7923194169998169), ('labors', 0.7800954580307007), ('laborer', 0.7762659788131714), ('productive', 0.7722468972206116), ('subsistence', 0.7629774808883667), ('occupations', 0.7628942728042603), ('laborers', 0.7619566917419434)]\n",
      "state\n",
      "[('affairs', 0.6730931997299194), ('condition', 0.5997108817100525), ('legislature', 0.5885007381439209), ('constitution', 0.5882061719894409), ('govern', 0.5790945887565613), ('abrogating', 0.5686582326889038), ('good_reason', 0.568655252456665), ('success-', 0.5637037754058838), ('legislation', 0.563326358795166), ('constituted', 0.5599976778030396)]\n",
      "economy\n",
      "[('economics', 0.8524729609489441), ('economic', 0.8470342755317688), ('innovation', 0.8335991501808167), ('economies', 0.8275280594825745), ('innovations', 0.8094227313995361), ('venus_project', 0.8094152808189392), ('socialization', 0.8070600032806396), ('economists', 0.8067986965179443), ('largely', 0.8019588589668274), ('eliminated', 0.8016319274902344)]\n",
      "food\n",
      "[('eating', 0.8145521879196167), ('meat', 0.8134703636169434), ('foods', 0.7953894138336182), ('vegetables', 0.7816570997238159), ('feed', 0.7790505290031433), ('feeding', 0.7721424698829651), ('diet', 0.7706360816955566), ('eat', 0.7699664235115051), ('hungry', 0.7538501620292664), ('edibles', 0.7529481649398804)]\n",
      "freedom\n",
      "[('liberty', 0.8349921107292175), ('equality', 0.7117866277694702), ('independence', 0.7049360275268555), ('free', 0.7036951780319214), ('pursuit_happiness', 0.67802494764328), ('justice', 0.674819827079773), ('tyranny', 0.6670814156532288), ('heritage', 0.666744589805603), ('slavery', 0.6585068106651306), ('freedoms', 0.6535376906394958)]\n",
      "health\n",
      "[('wholesome', 0.710279643535614), ('exercise', 0.7095882296562195), ('appetite', 0.6839278340339661), ('enjoyment', 0.6837145090103149), ('healthful', 0.6774308085441589), ('healthy', 0.6771352291107178), ('comforts', 0.6759804487228394), ('drudgery', 0.6747862696647644), ('comfort', 0.6694127321243286), ('epicure', 0.6568155884742737)]\n",
      "time\n",
      "[('hours', 0.5613866448402405), ('days', 0.5412449240684509), ('months', 0.5317054986953735), ('weeks', 0.5225149989128113), ('time_travellers', 0.5170926451683044), ('short', 0.5046731233596802), ('insinuates', 0.48126184940338135), ('lasted', 0.47809743881225586), ('uneventfully', 0.469512403011322), ('lifetime', 0.4687892198562622)]\n",
      "home\n",
      "[('honeymoon', 0.6752194762229919), ('relatives', 0.6405181288719177), ('family', 0.6223441958427429), ('returning', 0.6025912761688232), ('vacation', 0.5981909036636353), ('visit', 0.5974956154823303), ('visits', 0.59630286693573), ('visiting', 0.5945096611976624), ('fireside', 0.5941419005393982), ('homelike', 0.582450807094574)]\n",
      "house\n",
      "[('mansion', 0.7330847978591919), ('tenement', 0.6999356746673584), ('apartment', 0.6996961236000061), ('cottage', 0.6716551780700684), ('houses', 0.657701849937439), ('rooms', 0.6533583402633667), ('apartments', 0.6453344225883484), ('palace', 0.6366064548492432), ('hut', 0.6329894661903381), ('saloon', 0.6215506196022034)]\n",
      "government\n",
      "[('ernment', 0.8395861387252808), ('gov', 0.817612886428833), ('legislation', 0.8001487851142883), ('govern', 0.7960848212242126), ('governments', 0.79497230052948), ('policy', 0.7672720551490784), ('legislature', 0.7665579915046692), ('constitutional', 0.7639170289039612), ('gov-', 0.758389413356781), ('national', 0.7563313841819763)]\n",
      "immigrant\n",
      "[('ekumenical', 0.8171718716621399), ('journalist', 0.7827590703964233), ('darkover', 0.7824884653091431), ('good_deal', 0.7790799140930176), ('upstate', 0.7781890034675598), ('welsh', 0.7760950922966003), ('prime_minister', 0.7744875550270081), ('professor_casey', 0.7741250395774841), ('refugee', 0.769940197467804), ('exams', 0.7669535279273987)]\n",
      "safety\n",
      "[('safely', 0.8116663098335266), ('safe', 0.7694101929664612), ('secure', 0.7555528283119202), ('prevent', 0.7532099485397339), ('danger', 0.752689003944397), ('avoid', 0.6910693645477295), ('chances', 0.6831732988357544), ('immediate', 0.6794609427452087), ('equalizing', 0.6756570935249329), ('guesthouse', 0.6747650504112244)]\n",
      "police\n",
      "[('squad', 0.821825385093689), ('fort_hood', 0.8005984425544739), ('policemen', 0.796991765499115), ('guards', 0.7731474041938782), ('officers', 0.7679857015609741), ('guard', 0.7626953125), ('headquarters', 0.744114339351654), ('officer', 0.7434446215629578), ('spies', 0.7418324947357178), ('civilians', 0.7415619492530823)]\n",
      "policing\n",
      "[('eligibility', 0.6753867864608765), ('corporate', 0.6574133634567261), ('underclass', 0.6518567204475403), ('troublemakers', 0.6477946639060974), ('defense', 0.6421124935150146), ('risks', 0.6414252519607544), ('geographical_area', 0.6378570795059204), ('corporations', 0.6363964676856995), ('penitentiaries', 0.6323080062866211), ('tariffs', 0.6312565803527832)]\n",
      "crime\n",
      "[('crimes', 0.8784080743789673), ('inflicted', 0.8651158809661865), ('injustice', 0.8581253886222839), ('committed', 0.8569167852401733), ('suicide', 0.8471927642822266), ('victims', 0.8422126770019531), ('punishment', 0.8371841311454773), ('condemned', 0.8271355032920837), ('murder', 0.8232486844062805), ('punished', 0.8175318241119385)]\n",
      "equality\n",
      "[('morality', 0.8311192989349365), ('humane', 0.8199713826179504), ('exclude', 0.8073331117630005), ('aristoc', 0.8018426895141602), ('commercialism', 0.7996647953987122), ('principle', 0.796234667301178), ('contend', 0.7957421541213989), ('fraternity', 0.7904157042503357), ('individualism', 0.7890089154243469), ('rational', 0.786942183971405)]\n",
      "planet\n",
      "[('planets', 0.8585548400878906), ('galaxy', 0.8420863747596741), ('earth', 0.7616278529167175), ('worlds', 0.7549735903739929), ('astronomers', 0.7426939606666565), ('planetary', 0.7355886697769165), ('mars', 0.73380047082901), ('orbit', 0.7250386476516724), ('moons', 0.7161442041397095), ('light_years', 0.7080503702163696)]\n",
      "space\n",
      "[('revolving', 0.7142671942710876), ('orbit', 0.711466372013092), ('galaxy', 0.7027133107185364), ('planet', 0.6942644715309143), ('universe', 0.6938039064407349), ('worlds', 0.693499743938446), ('solar_system', 0.6927787661552429), ('planets', 0.6905345320701599), ('universes', 0.6885283589363098), ('galaxies', 0.6833617091178894)]\n",
      "earth\n",
      "[('planet', 0.7616279125213623), ('worlds', 0.7417623400688171), ('jupiter', 0.7189884185791016), ('mars', 0.6896101832389832), ('planets', 0.6881923675537109), ('globe', 0.6758793592453003), ('moon', 0.6639866828918457), ('sphere', 0.6270512938499451), ('heavens', 0.6262568831443787), ('universe', 0.608966588973999)]\n"
     ]
    }
   ],
   "source": [
    "for word in search_words:\n",
    "    print(word)\n",
    "    print(w2vmodel_utopia.wv.most_similar(word))"
   ]
  },
  {
   "cell_type": "code",
   "execution_count": 20,
   "id": "cognitive-needle",
   "metadata": {},
   "outputs": [
    {
     "name": "stdout",
     "output_type": "stream",
     "text": [
      "justice\n",
      "[('buy', 0.9980607032775879), ('englishmen', 0.9979642033576965), ('admitted', 0.9979076385498047), ('convinced', 0.9977056980133057), ('motives', 0.9976793527603149), ('proposal', 0.997575044631958), ('instance', 0.9974185228347778), ('refused', 0.9973499178886414), ('practical', 0.997288703918457), ('rules', 0.9972639679908752)]\n",
      "man\n",
      "[('woman', 0.9746346473693848), ('young', 0.9570618867874146), ('fellow', 0.9470860958099365), ('athlete', 0.9463731646537781), ('heart', 0.9455968141555786), ('didst', 0.9442940950393677), ('bedside', 0.9424622654914856), ('thou', 0.9404130578041077), ('intonation', 0.938960611820221), ('laughed', 0.9365006685256958)]\n",
      "woman\n",
      "[('child', 0.9852575659751892), ('heart', 0.9823704361915588), ('fellow', 0.9762800335884094), ('didst', 0.976244330406189), ('young', 0.9760767221450806), ('man', 0.97463458776474), ('mother', 0.9722655415534973), ('geoffrey', 0.9717390537261963), ('athlete', 0.9699482917785645), ('love', 0.9696642160415649)]\n",
      "artificial_intelligence\n",
      "Not in Vocabulary\n",
      "factory\n",
      "[('advantages', 0.999051570892334), ('popular', 0.9990394711494446), ('markets', 0.9988764524459839), ('largely', 0.9988691806793213), ('competition', 0.9988439083099365), ('legislation', 0.9988298416137695), ('independent', 0.9988030791282654), ('maintained', 0.9987562894821167), ('scheme', 0.9987061023712158), ('defeat', 0.9987027049064636)]\n",
      "labour\n",
      "[('capital', 0.9964732527732849), ('classes', 0.9964136481285095), ('millions', 0.9955053925514221), ('system', 0.9952377676963806), ('wealth', 0.9941088557243347), ('science', 0.9923568367958069), ('economic', 0.9916634559631348), ('society', 0.9916244745254517), ('labor', 0.9916093349456787), ('party', 0.990953266620636)]\n",
      "state\n",
      "[('government', 0.9935970902442932), ('public', 0.9629216194152832), ('america', 0.9603853225708008), ('political', 0.9590088725090027), ('social', 0.9571643471717834), ('war', 0.9563395380973816), ('england', 0.9540955424308777), ('heirs', 0.9476721286773682), ('national', 0.9470874071121216), ('country', 0.9427887797355652)]\n",
      "economy\n",
      "[('european', 0.9991761445999146), ('forces', 0.9990730881690979), ('devised', 0.9989072680473328), ('railway', 0.9989031553268433), ('democratic', 0.9986573457717896), ('emigration', 0.9986366033554077), ('adopted', 0.9985982775688171), ('districts', 0.9985895156860352), ('organized', 0.9985488057136536), ('commercial', 0.9985302686691284)]\n",
      "food\n",
      "[('robbed', 0.9971694946289062), ('gain', 0.9969066977500916), ('idleness', 0.9965296387672424), ('principle', 0.9963183403015137), ('slaves', 0.9962939620018005), ('inevitable', 0.996102511882782), ('determine', 0.9960485696792603), ('cost', 0.9959463477134705), ('sports', 0.9958817958831787), ('capitalists', 0.9958690404891968)]\n",
      "freedom\n",
      "[('average', 0.9993358850479126), ('generation', 0.9990801811218262), ('foundation', 0.9988884925842285), ('ancestors', 0.9988135099411011), ('exact', 0.9987865090370178), ('religious', 0.99870365858078), ('demands', 0.9984728693962097), ('stands', 0.9984611868858337), ('homes', 0.9984544515609741), ('profit', 0.998412013053894)]\n",
      "health\n",
      "[('teaching', 0.9994069337844849), ('possess', 0.9991726875305176), ('choice', 0.9990705847740173), ('appeal', 0.9988948106765747), ('false', 0.9988338947296143), ('folly', 0.9987469911575317), ('superiority', 0.9986525177955627), ('credit', 0.9986225962638855), ('charity', 0.9985893368721008), ('personal', 0.9985500574111938)]\n",
      "time\n",
      "[('ago', 0.9576470255851746), ('ﬁve', 0.9207537770271301), ('live', 0.9202536940574646), ('home', 0.9191267490386963), ('change', 0.9122021794319153), ('hardships', 0.9107480645179749), ('uneventful', 0.9037443995475769), ('days', 0.9019520282745361), ('having', 0.900273323059082), ('redoubt', 0.8969913125038147)]\n",
      "home\n",
      "[('morrow', 0.9692691564559937), ('find', 0.9666773080825806), ('messiah', 0.9603887796401978), ('month', 0.9579314589500427), ('friends', 0.956616222858429), ('read', 0.9558619260787964), ('story', 0.9550788998603821), ('ﬁve', 0.9540688991546631), ('quarrel', 0.950763463973999), ('able', 0.9498297572135925)]\n",
      "house\n",
      "[('found', 0.9742123484611511), ('soundly', 0.9719765782356262), ('hall', 0.9679273366928101), ('wool_shed', 0.9647454023361206), ('passage', 0.9636080861091614), ('led', 0.962339460849762), ('endless', 0.961715817451477), ('tramping', 0.959530234336853), ('reached', 0.9593572020530701), ('rooms', 0.9592864513397217)]\n",
      "government\n",
      "[('state', 0.9935969114303589), ('public', 0.9783045053482056), ('political', 0.9727164506912231), ('america', 0.969306230545044), ('war', 0.9647215604782104), ('states', 0.9630548357963562), ('england', 0.9618704915046692), ('heirs', 0.9616854786872864), ('social', 0.9611625075340271), ('national', 0.9599922895431519)]\n",
      "immigrant\n",
      "[('merchants', 0.9965079426765442), ('officers', 0.9964870810508728), ('standard', 0.9963763952255249), ('defence', 0.9961410164833069), ('dutch', 0.9960649609565735), ('intercourse', 0.9959700703620911), ('persons', 0.9958954453468323), ('wheat', 0.9958164095878601), ('largest', 0.9957571029663086), ('limits', 0.9957455396652222)]\n",
      "safety\n",
      "[('enjoy', 0.9990699291229248), ('granted', 0.9984604120254517), ('occupation', 0.9983866214752197), ('afford', 0.9982960224151611), ('opportunity', 0.9982954263687134), ('importance', 0.9982864260673523), ('certainty', 0.9982015490531921), ('imagine', 0.99808669090271), ('preferred', 0.9979469776153564), ('offered', 0.9979414939880371)]\n",
      "police\n",
      "[('washington', 0.9975772500038147), ('china', 0.9975119829177856), ('immigration', 0.9970414638519287), ('international', 0.9969627261161804), ('military', 0.9966493248939514), ('department', 0.9966370463371277), ('coolie', 0.9965590238571167), ('california', 0.9964293241500854), ('parliament', 0.9963123798370361), ('imperial', 0.9962608218193054)]\n",
      "policing\n",
      "Not in Vocabulary\n",
      "crime\n",
      "[('equality', 0.9993851780891418), ('relations', 0.9993219375610352), ('habits', 0.9993069767951965), ('motive', 0.9992555975914001), ('sentiment', 0.9992460012435913), ('considered', 0.9992061853408813), ('aims', 0.9990614056587219), ('failure', 0.9989320039749146), ('criminal', 0.9989040493965149), ('purpose', 0.9988828897476196)]\n",
      "equality\n",
      "[('sentiment', 0.9994687438011169), ('crime', 0.9993849992752075), ('criminal', 0.9992221593856812), ('competition', 0.9991868138313293), ('habits', 0.9991425275802612), ('act', 0.9990799427032471), ('markets', 0.999003529548645), ('popular', 0.9989954233169556), ('profit', 0.9989798665046692), ('failure', 0.9989600777626038)]\n",
      "planet\n",
      "[('promised', 0.9991796612739563), ('intention', 0.9991075992584229), ('orders', 0.9990361332893372), ('decision', 0.998835563659668), ('finding', 0.9988090991973877), ('au', 0.9987605810165405), ('tale', 0.9984959363937378), ('pen', 0.998446524143219), ('concerning', 0.998429000377655), ('hero', 0.9983776807785034)]\n",
      "space\n",
      "[('distance', 0.9969720244407654), ('road', 0.9954909086227417), ('snow', 0.9954512119293213), ('appeared', 0.9954199194908142), ('moving', 0.9944433569908142), ('filled', 0.9940212965011597), ('stone', 0.9940107464790344), ('rail', 0.9938549399375916), ('lights', 0.9934935569763184), ('overhead', 0.9934026598930359)]\n",
      "earth\n",
      "[('cattle', 0.9869270324707031), ('hearts', 0.984894335269928), ('died', 0.9845072627067566), ('lost', 0.9835606813430786), ('blood', 0.9833685159683228), ('eternity', 0.9832822680473328), ('body', 0.9830609560012817), ('stature', 0.9828821420669556), ('strong', 0.9818319082260132), ('beauty', 0.9804115891456604)]\n"
     ]
    }
   ],
   "source": [
    "for word in search_words:\n",
    "    try:\n",
    "        print(word)\n",
    "        print(w2vmodel_dystopia.wv.most_similar(word))\n",
    "    except KeyError:\n",
    "        print(\"Not in Vocabulary\")"
   ]
  },
  {
   "cell_type": "markdown",
   "id": "protecting-orientation",
   "metadata": {},
   "source": [
    "## Visualisation Plans\n",
    "Create embeddings for each book using doc2vec.\n",
    "\n",
    "tSNE plot of books, color by \n",
    "\n",
    "- year, \n",
    "- author demography, \n",
    "- or even just utopia/dystopia\n",
    "\n",
    "\n",
    "Visualise certain words in embedding space vs normal embedding space\n",
    "\n"
   ]
  },
  {
   "cell_type": "code",
   "execution_count": 24,
   "id": "accepted-desktop",
   "metadata": {},
   "outputs": [],
   "source": [
    "import gensim"
   ]
  },
  {
   "cell_type": "code",
   "execution_count": 28,
   "id": "cubic-backup",
   "metadata": {},
   "outputs": [],
   "source": [
    "taggedDocs = []"
   ]
  },
  {
   "cell_type": "code",
   "execution_count": 29,
   "id": "conditional-belarus",
   "metadata": {},
   "outputs": [],
   "source": [
    "i = 0"
   ]
  },
  {
   "cell_type": "code",
   "execution_count": 30,
   "id": "individual-somerset",
   "metadata": {},
   "outputs": [],
   "source": [
    "for text in all_cleaned_texts_utopia + all_cleaned_texts_dystopia:\n",
    "    taggedDocs.append(gensim.models.doc2vec.TaggedDocument(words = text, tags = [i]))\n",
    "    i +=1"
   ]
  },
  {
   "cell_type": "code",
   "execution_count": 26,
   "id": "speaking-index",
   "metadata": {},
   "outputs": [],
   "source": [
    "doc2vec_model = gensim.models.doc2vec.Doc2Vec(vector_size=50, min_count=2, epochs=40)"
   ]
  },
  {
   "cell_type": "code",
   "execution_count": 31,
   "id": "instant-gothic",
   "metadata": {},
   "outputs": [],
   "source": [
    "doc2vec_model.build_vocab(taggedDocs)"
   ]
  },
  {
   "cell_type": "code",
   "execution_count": 32,
   "id": "extraordinary-sydney",
   "metadata": {},
   "outputs": [],
   "source": [
    "doc2vec_model.train(taggedDocs, total_examples=doc2vec_model.corpus_count, epochs=doc2vec_model.epochs)"
   ]
  },
  {
   "cell_type": "code",
   "execution_count": 33,
   "id": "latin-vanilla",
   "metadata": {},
   "outputs": [],
   "source": [
    "utopia_vecs = {}"
   ]
  },
  {
   "cell_type": "code",
   "execution_count": 34,
   "id": "objective-scholarship",
   "metadata": {},
   "outputs": [],
   "source": [
    "for text in cleaned_texts_pdf:\n",
    "    utopia_vecs[text] = [doc2vec_model.infer_vector(cleaned_texts_pdf[text])]"
   ]
  },
  {
   "cell_type": "code",
   "execution_count": 35,
   "id": "destroyed-newman",
   "metadata": {},
   "outputs": [],
   "source": [
    "for text in cleaned_texts_epub_txt:\n",
    "    utopia_vecs[text] = [doc2vec_model.infer_vector(cleaned_texts_epub_txt[text])]"
   ]
  },
  {
   "cell_type": "code",
   "execution_count": 36,
   "id": "certified-debate",
   "metadata": {},
   "outputs": [],
   "source": [
    "dystopia_vecs = {}"
   ]
  },
  {
   "cell_type": "code",
   "execution_count": 37,
   "id": "blond-button",
   "metadata": {},
   "outputs": [],
   "source": [
    "for text in cleaned_texts_dystopia:\n",
    "    dystopia_vecs[text] = [doc2vec_model.infer_vector(cleaned_texts_dystopia[text])]"
   ]
  },
  {
   "cell_type": "code",
   "execution_count": 41,
   "id": "comfortable-highland",
   "metadata": {},
   "outputs": [],
   "source": [
    "import numpy as np"
   ]
  },
  {
   "cell_type": "code",
   "execution_count": 42,
   "id": "subtle-negative",
   "metadata": {},
   "outputs": [],
   "source": [
    "utopia_labels = np.zeros(len(utopia_vecs))"
   ]
  },
  {
   "cell_type": "code",
   "execution_count": 46,
   "id": "herbal-hampton",
   "metadata": {},
   "outputs": [
    {
     "data": {
      "text/plain": [
       "725"
      ]
     },
     "execution_count": 46,
     "metadata": {},
     "output_type": "execute_result"
    }
   ],
   "source": [
    "len(utopia_vecs)"
   ]
  },
  {
   "cell_type": "code",
   "execution_count": 47,
   "id": "furnished-marble",
   "metadata": {},
   "outputs": [
    {
     "data": {
      "text/plain": [
       "67"
      ]
     },
     "execution_count": 47,
     "metadata": {},
     "output_type": "execute_result"
    }
   ],
   "source": [
    "len(dystopia_vecs)"
   ]
  },
  {
   "cell_type": "code",
   "execution_count": 43,
   "id": "royal-chick",
   "metadata": {},
   "outputs": [],
   "source": [
    "dystopia_labels = np.ones(len(dystopia_vecs))"
   ]
  },
  {
   "cell_type": "code",
   "execution_count": 44,
   "id": "micro-homework",
   "metadata": {},
   "outputs": [],
   "source": [
    "from yellowbrick.text import TSNEVisualizer, UMAPVisualizer"
   ]
  },
  {
   "cell_type": "code",
   "execution_count": 45,
   "id": "determined-participation",
   "metadata": {},
   "outputs": [],
   "source": [
    "umap = UMAPVisualizer()"
   ]
  },
  {
   "cell_type": "code",
   "execution_count": null,
   "id": "hearing-pepper",
   "metadata": {},
   "outputs": [],
   "source": [
    "umap.fit(utopia_vecs, labels[0:1000])\n",
    "umap.show()"
   ]
  },
  {
   "cell_type": "markdown",
   "id": "nutritional-praise",
   "metadata": {},
   "source": [
    "## Linguistic Counts and Measures"
   ]
  },
  {
   "cell_type": "code",
   "execution_count": null,
   "id": "amber-sewing",
   "metadata": {},
   "outputs": [],
   "source": [
    "def text_summaries(cleaned_texts, num_topics=5):\n",
    "    \n",
    "    word_use = {}\n",
    "    for text in cleaned_texts:\n",
    "        for word in text:\n",
    "            if word not in word_use:\n",
    "                word_use[word] = 0\n",
    "            if word in word_use:\n",
    "                word_use[word] += 1\n",
    "    \n",
    "    total_words = sum(word_use.values())\n",
    "    \n",
    "    sorted_words = sorted(word_use.items(), key=operator.itemgetter(1))\n",
    "    sorted_words.reverse()\n",
    "\n",
    "    dictionary = Dictionary(cleaned_texts)\n",
    "    corpus = [dictionary.doc2bow(text) for text in cleaned_texts]\n",
    "    ldamodel = LdaModel(corpus=corpus, num_topics=num_topics, id2word=dictionary, passes=10, iterations=500)\n",
    "    \n",
    "    tf_idf_model = TfidfModel(corpus)\n",
    "    tf_idf_texts = tf_idf_model[corpus]\n",
    "    \n",
    "    d = {dictionary.get(id): value for doc in tf_idf_texts for id, value in doc}\n",
    "    sorted_d = sorted(d.items(), key=operator.itemgetter(1))\n",
    "    sorted_d.reverse()\n",
    "    \n",
    "    print(\"Total number of documents: \" + str(total_docs))\n",
    "    print(\"Average length of text: \" + str(avg_len))\n",
    "    print(\" \")\n",
    "    print(\"The top 5 tf-idf scores:\")\n",
    "    print(sorted_d[0:5])\n",
    "    print(\" \")\n",
    "    print(\"The top 20 most used words:\")\n",
    "    print(sorted_words[0:20])\n",
    "    print(\" \")\n",
    "    print(\"Topic Model with 5 topics\")\n",
    "    print(ldamodel.print_topics())\n",
    "    return cleaned_texts, ldamodel"
   ]
  },
  {
   "cell_type": "markdown",
   "id": "pending-indianapolis",
   "metadata": {},
   "source": [
    "TODO:\n",
    "\n",
    "- compare bootstrapped model (utopia) vs google news model\n",
    "- plots by decade, plots by demography (gender, race, location, sexuality)\n",
    "- time periods vs usage of certain concepts, such as nature, climate\n",
    "- formation of labour/labor before and after 1970s\n",
    "- lemmatization\n",
    "- microgenres by time period\n",
    "- words and markers of genre\n",
    "- elements across time\n",
    "\n",
    "Research questions: Are utopian and dystopian fiction genres of infrastructure? How? Is this more the case for utopia than dystopia? Literature of boredom (infrastructure) versus romance?"
   ]
  },
  {
   "cell_type": "code",
   "execution_count": null,
   "id": "active-dependence",
   "metadata": {},
   "outputs": [],
   "source": []
  }
 ],
 "metadata": {
  "kernelspec": {
   "display_name": "Python 3",
   "language": "python",
   "name": "python3"
  },
  "language_info": {
   "codemirror_mode": {
    "name": "ipython",
    "version": 3
   },
   "file_extension": ".py",
   "mimetype": "text/x-python",
   "name": "python",
   "nbconvert_exporter": "python",
   "pygments_lexer": "ipython3",
   "version": "3.9.4"
  }
 },
 "nbformat": 4,
 "nbformat_minor": 5
}
