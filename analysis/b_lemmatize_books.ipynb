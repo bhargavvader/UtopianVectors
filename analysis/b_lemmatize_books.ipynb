{
 "cells": [
  {
   "cell_type": "code",
   "execution_count": 1,
   "id": "animated-frost",
   "metadata": {},
   "outputs": [],
   "source": [
    "import json"
   ]
  },
  {
   "cell_type": "code",
   "execution_count": 2,
   "id": "unlike-french",
   "metadata": {},
   "outputs": [],
   "source": [
    "file = open('Cleaned-Data/cleaned_texts_epub_txt.json')\n",
    "data_epub = json.load(file)"
   ]
  },
  {
   "cell_type": "code",
   "execution_count": 3,
   "id": "spectacular-article",
   "metadata": {},
   "outputs": [],
   "source": [
    "file = open('Cleaned-Data/cleaned_texts_pdf.json')\n",
    "data_pdf = json.load(file)"
   ]
  },
  {
   "cell_type": "code",
   "execution_count": 4,
   "id": "historical-hartford",
   "metadata": {},
   "outputs": [],
   "source": [
    "lemmatized_texts = {}"
   ]
  },
  {
   "cell_type": "code",
   "execution_count": 5,
   "id": "proprietary-ending",
   "metadata": {},
   "outputs": [],
   "source": [
    "stop_words = ['content', 'chapter', 'title']"
   ]
  },
  {
   "cell_type": "code",
   "execution_count": 8,
   "id": "novel-reform",
   "metadata": {},
   "outputs": [],
   "source": [
    "import spacy\n",
    "nlp = spacy.load(\"en_core_web_sm\")\n",
    "nlp.max_length = 7224814"
   ]
  },
  {
   "cell_type": "code",
   "execution_count": 9,
   "id": "funny-database",
   "metadata": {},
   "outputs": [],
   "source": [
    "for book in data_epub:\n",
    "    if book not in lemmatized_texts:\n",
    "        lemmatized_texts[book] = []\n",
    "        texts = nlp(' '.join(data_epub[book]))\n",
    "        for word in texts:\n",
    "            word_add = word.lemma_\n",
    "            if word_add not in stop_words:\n",
    "                lemmatized_texts[book].append(word_add)"
   ]
  },
  {
   "cell_type": "code",
   "execution_count": 10,
   "id": "marine-carnival",
   "metadata": {},
   "outputs": [],
   "source": [
    "for book in data_pdf:\n",
    "    if book not in lemmatized_texts:\n",
    "        lemmatized_texts[book] = []\n",
    "        texts = nlp(' '.join(data_pdf[book]))\n",
    "        for word in texts:\n",
    "            word_add = word.lemma_\n",
    "            if word_add not in stop_words:\n",
    "                lemmatized_texts[book].append(word_add)"
   ]
  },
  {
   "cell_type": "code",
   "execution_count": 11,
   "id": "sonic-excess",
   "metadata": {},
   "outputs": [
    {
     "data": {
      "text/plain": [
       "725"
      ]
     },
     "execution_count": 11,
     "metadata": {},
     "output_type": "execute_result"
    }
   ],
   "source": [
    "len(lemmatized_texts)"
   ]
  },
  {
   "cell_type": "code",
   "execution_count": 15,
   "id": "resistant-equality",
   "metadata": {},
   "outputs": [
    {
     "data": {
      "text/plain": [
       "'10335.pdf'"
      ]
     },
     "execution_count": 15,
     "metadata": {},
     "output_type": "execute_result"
    }
   ],
   "source": [
    "list(lemmatized_texts.keys())[600]"
   ]
  },
  {
   "cell_type": "code",
   "execution_count": 17,
   "id": "threatened-outdoors",
   "metadata": {},
   "outputs": [],
   "source": [
    "with open('lemmatized_books.json', 'w') as f:\n",
    "    json.dump(lemmatized_texts, f)"
   ]
  },
  {
   "cell_type": "code",
   "execution_count": null,
   "id": "cardiac-product",
   "metadata": {},
   "outputs": [],
   "source": []
  }
 ],
 "metadata": {
  "kernelspec": {
   "display_name": "Python 3",
   "language": "python",
   "name": "python3"
  },
  "language_info": {
   "codemirror_mode": {
    "name": "ipython",
    "version": 3
   },
   "file_extension": ".py",
   "mimetype": "text/x-python",
   "name": "python",
   "nbconvert_exporter": "python",
   "pygments_lexer": "ipython3",
   "version": "3.9.10"
  }
 },
 "nbformat": 4,
 "nbformat_minor": 5
}
